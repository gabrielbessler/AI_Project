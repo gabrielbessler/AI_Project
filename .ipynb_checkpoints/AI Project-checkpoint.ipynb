{
 "cells": [
  {
   "cell_type": "code",
   "execution_count": 1,
   "metadata": {},
   "outputs": [
    {
     "data": {
      "application/javascript": [
       "IPython.notebook.set_autosave_interval(10000)"
      ]
     },
     "metadata": {},
     "output_type": "display_data"
    },
    {
     "name": "stdout",
     "output_type": "stream",
     "text": [
      "Autosaving every 10 seconds\n"
     ]
    }
   ],
   "source": [
    "%autosave 10\n",
    "%load_ext autoreload\n",
    "%autoreload 2"
   ]
  },
  {
   "cell_type": "code",
   "execution_count": 2,
   "metadata": {},
   "outputs": [
    {
     "name": "stdout",
     "output_type": "stream",
     "text": [
      "pygame 1.9.6\n",
      "Hello from the pygame community. https://www.pygame.org/contribute.html\n"
     ]
    }
   ],
   "source": [
    "import torch \n",
    "from tictactoe import *\n",
    "import torch \n",
    "import torch.nn as nn\n",
    "import torch.nn.functional as F\n",
    "from torch.autograd import Variable\n",
    "\n",
    "import copy \n",
    "from collections import deque\n",
    "from time import time \n",
    "from multiprocessing import Pool \n",
    "from tqdm.notebook import tqdm, trange\n",
    "\n",
    "import numpy as np\n",
    "\n",
    "import random \n",
    "import torch.optim as optim\n",
    "from matplotlib import pyplot as plt\n",
    "# import multiprocess as mp\n",
    "import csv\n"
   ]
  },
  {
   "cell_type": "markdown",
   "metadata": {},
   "source": [
    "# TODO\n",
    "\n",
    "1. Look into TensorBoard (https://www.dlology.com/blog/how-to-run-tensorboard-in-jupyter-notebook/)\n",
    "2. Look into multiprocessing so we can train the 4 networks at the same time \n",
    "3. Test out data loader\n",
    "4. Save both the network and game trees to csv\n",
    "5. Change the activation function for the policy head to emit a value between 0 and 1 "
   ]
  },
  {
   "cell_type": "markdown",
   "metadata": {},
   "source": [
    "# Variants of Tic-Tac-Toe (https://en.wikipedia.org/wiki/Tic-tac-toe_variants)\n",
    "\n",
    "$m,n,k$ game = play on $m$ by $n$ board to try to get $k$ in a row.\n",
    "\n",
    "We have that TicTacToe extends Game, meaning it must have a checkGameOver function. We modify it so that in the initializer it takes in an additional parameter, 'gameOverChecker', a function that takes a board and logger and returns $0$ if nobody won, $1$ if Player one won, or $2$ if Player $2$ won. \n",
    "\n",
    "This allows us to easily implement any variants of the standard 3x3 game that only modify that winning conditions. For example, Misere Tic-tac-toe, or 'inverse' Tic-Tac-Toe, is the game where Player 1 wins if Player 2 gets 3 in a row (we make wrappers for each of the game versions)."
   ]
  },
  {
   "cell_type": "markdown",
   "metadata": {},
   "source": [
    "Now we would like to support variants of the game where instead of alternating turns, there is some different rule for check whose turn it is. For this, we will add another parameter to TicTacToe constructor, turnChooser. This is passed into the Game superclass. Note that $turnChooser$ is a function that takes in the current player and gives the next player. This lets us support $random$ $turn$ $tic$-$tac$-$toe$."
   ]
  },
  {
   "cell_type": "markdown",
   "metadata": {},
   "source": [
    "Now we would like to support larger boards. To do this, we pass in an additional parameter $dimension$. This then creates a board of size $dimension$ by $dimension$. Although this allows us to define boards of arbitrary size, we create $FourByFourTicTacToe$ and $FiveByFiveTicTacToe$. The most logical win condition for an $n$ by $n$ board is $n$ in a row. For this reason we modify the $checkGameOver$ function to take in $n$ - the number of pieces in a row required for a win. Note that other variants are possible - for example, getting a diamond in $4$ by $4$ could also be considered a win. We can then create an $n$ in a row win condition function by using partial functions with $checkGameOver$."
   ]
  },
  {
   "cell_type": "markdown",
   "metadata": {},
   "source": [
    "Next, we would like to support games in 3 dimensions. We do this by adding yet another paremeter to the initialization - $threeDims$. In order to make it easier to handle 2D vs 3D games, we will always assume the board is 3D - n by n by n, but for 2D we can just get the n by n board by calling board[0]."
   ]
  },
  {
   "cell_type": "markdown",
   "metadata": {},
   "source": [
    "We would like easily define combinations of these variants to create custom games. In order to do this, we define a TicTacToeConfig class. Now, TicTacToe simply takes a TicTacToeConfig. This config has all of the default values so we can set any combinations of the ones we want. \n"
   ]
  },
  {
   "cell_type": "markdown",
   "metadata": {},
   "source": [
    "## Visualizing the Board\n",
    "\n",
    "Looking at the board in the command line is annoying, and we would like some way of seeing what the algorithm is actually doing in a way that is easier to interpret. We will use PyGame to do this. First, we create a `display` method in TicTacToe.\n",
    "\n",
    "The correct way to do this would be to have some event that is triggered when we make a move to update the display. Due to lazyness, we will just spawn a different thread. This then renders the grid 60 times per second and colors it according to the current board state. \n",
    "\n",
    "http://programarcadegames.com/index.php?lang=en&chapter=array_backed_grids\n",
    "https://www.pygame.org/docs/tut/ChimpLineByLine.html"
   ]
  },
  {
   "cell_type": "markdown",
   "metadata": {},
   "source": [
    "### Learning the Value Function with a Neural Network\n",
    "\n",
    "First, we define the neural network. We use tanh to bound the result between -1 and 1 (since this is the bound of our value function). We use standard activation functions, testing first ReLu and then Leaky ReLu."
   ]
  },
  {
   "cell_type": "code",
   "execution_count": 3,
   "metadata": {},
   "outputs": [],
   "source": [
    "# Regular Feed forward network with only dense layers \n",
    "class DenseNetRELU(nn.Module):\n",
    "    def __init__(self, dimension):\n",
    "        super(DenseNetRELU, self).__init__()\n",
    "        # 9 input features (each of the positions in the board), with a bias\n",
    "        # 1 hidden layer with 9 inputs, 1 output (the value of the state)\n",
    "        numStates = dimension * dimension\n",
    "        self.first = nn.Linear(numStates, numStates, True)\n",
    "        self.hiddenOne = nn.Linear(numStates, numStates, True)\n",
    "        self.hiddenTwo = nn.Linear(numStates, 1, True)\n",
    "        \n",
    "    def forward(self, x):\n",
    "        x = F.relu(self.first(x)) \n",
    "        x = F.relu(self.hiddenOne(x)) \n",
    "        x = torch.tanh(self.hiddenTwo(x)) \n",
    "        return x\n",
    "    \n",
    "def weights_init_uniform(m):\n",
    "    classname = m.__class__.__name__\n",
    "    if classname.find('Linear') != -1:\n",
    "        m.weight.data.uniform_(0.0, 1.0)\n",
    "        m.bias.data.fill_(0)\n",
    "    \n",
    "class DenseNetLeakyRELU(nn.Module):\n",
    "    def __init__(self, dimension):\n",
    "        super(DenseNetLeakyRELU, self).__init__()\n",
    "        \n",
    "        numStates = dimension * dimension\n",
    "        self.first = nn.Linear(numStates, numStates, True)\n",
    "        self.hiddenOne = nn.Linear(numStates, numStates, True)\n",
    "        self.hiddenTwo = nn.Linear(numStates, 1, True)\n",
    "        \n",
    "    def forward(self, x):\n",
    "        x = F.leaky_relu(self.first(x)) \n",
    "        x = F.leaky_relu(self.hiddenOne(x)) \n",
    "        x = torch.tanh(self.hiddenTwo(x)) \n",
    "        return x\n",
    "    \n",
    "# Convolutional neural network (for 2D)\n",
    "class ConvNet(nn.Module):\n",
    "    def __init__(self, dimension): \n",
    "        super(ConvNet, self).__init__()\n",
    "        \n",
    "        \n",
    "        # input is a single channel, we perform 5 convolutions on each entry \n",
    "        # with kernel size of 2 \n",
    "        if dimension == 3:\n",
    "            # 1 in_channel, \n",
    "            # 5 out_channels\n",
    "            self.first = nn.Conv2d(1, 5, kernel_size=2, padding=0) # This gives us 5 2x2 squares\n",
    "            self.flattenLayer = nn.Flatten()\n",
    "            self.hidden = nn.Linear(20, 1, True)\n",
    "        else: \n",
    "            # TODO \n",
    "            self.first = nn.Conv2d(1, 5, 3, padding=1)\n",
    "\n",
    "    def forward(self, x):\n",
    "        x = F.relu(self.first(x))\n",
    "        x = self.flattenLayer(x)\n",
    "        x = torch.tanh(self.hidden(x)) # Make sure output is between -1 and 1 \n",
    "        return x \n",
    "    \n",
    "class ConvNetLeaky(nn.Module):\n",
    "    def __init__(self, dimension):\n",
    "        super(ConvNetLeaky, self).__init__()\n",
    "        \n",
    "        if dimension == 3:\n",
    "            self.first = nn.Conv2d(1, 5, 2, padding=0) # This gives us a 2x2\n",
    "            self.flattenLayer = nn.Flatten()\n",
    "            self.hidden = nn.Linear(20, 1, True)\n",
    "        else:\n",
    "            # TODO\n",
    "            self.first = nn.Conv2d(1, 5, 3, padding=1)\n",
    "        \n",
    "    def forward(self, x):\n",
    "        x = F.leaky_relu(self.first(x))\n",
    "        x = self.flattenLayer(x)\n",
    "        x = torch.tanh(self.hidden(x)) # Make sure output is between -1 and 1\n",
    "        return x \n",
    "        \n",
    "\n",
    "nets = dict()\n",
    "\n",
    "for dim in range(3, 11): \n",
    "    netOne   = DenseNetRELU(dim)\n",
    "    netTwo   = DenseNetLeakyRELU(dim)\n",
    "    netThree = ConvNet(dim)\n",
    "    netFour  = ConvNetLeaky(dim)\n",
    "    \n",
    "    nets[dim] = [netOne, netTwo, netThree, netFour]"
   ]
  },
  {
   "cell_type": "markdown",
   "metadata": {},
   "source": [
    "## We take the most successful neural network and turn it into the network we use for MCTS by adding the policy head \n",
    "# TODO: Normalize?"
   ]
  },
  {
   "cell_type": "code",
   "execution_count": 51,
   "metadata": {},
   "outputs": [
    {
     "data": {
      "text/plain": [
       "tensor([-0.0688,  0.1775,  0.0807, -0.1374, -0.0459, -0.4322,  0.1553, -0.2774,\n",
       "         0.1082, -0.2495], grad_fn=<CatBackward>)"
      ]
     },
     "execution_count": 51,
     "metadata": {},
     "output_type": "execute_result"
    }
   ],
   "source": [
    "class MCTSNet(nn.Module):\n",
    "    def __init__(self, dimension):\n",
    "        super(MCTSNet, self).__init__()\n",
    "        \n",
    "        numStates = dimension * dimension\n",
    "        self.first = nn.Linear(numStates, numStates, True)\n",
    "        self.hiddenOne = nn.Linear(numStates, numStates, True)\n",
    "        \n",
    "        self.valueHead = nn.Linear(numStates, 1, True)          # Give us a value for the board\n",
    "        self.policyHead = nn.Linear(numStates, numStates, True) # Give us a probability for each action\n",
    "        \n",
    "        \n",
    "    def forward(self, x):\n",
    "        x = F.leaky_relu(self.first(x)) \n",
    "        x = F.leaky_relu(self.hiddenOne(x)) \n",
    "        value = torch.tanh(self.valueHead(x)) \n",
    "        policy = torch.tanh(self.policyHead(x)) \n",
    "        return torch.cat((value, policy))\n",
    "\n",
    "net = MCTSNet(3)\n",
    "net(torch.FloatTensor([0, 0, 0, 0, 0, 0, 0, 0, 0]))"
   ]
  },
  {
   "cell_type": "markdown",
   "metadata": {},
   "source": [
    "We first define our game tree by defining a node class."
   ]
  },
  {
   "cell_type": "code",
   "execution_count": 4,
   "metadata": {},
   "outputs": [],
   "source": [
    "class Node:\n",
    "    ''' \n",
    "    Node is a single board state in our game tree.\n",
    "    '''\n",
    "    def __init__(self, board): \n",
    "        self.children = []\n",
    "        self.parent = None\n",
    "        self.board = board \n",
    "        self.currPlayer = 0"
   ]
  },
  {
   "cell_type": "markdown",
   "metadata": {},
   "source": [
    "We then make a generic function which will take some starting node and a game constructor (which must create an object that extends the Game abstractclass) and fills out the game tree. It does this more efficiently by using a thread pool. Note that this also returns a list of all the nodes in the tree, which allows us to choose a random node much more easily."
   ]
  },
  {
   "cell_type": "code",
   "execution_count": 5,
   "metadata": {},
   "outputs": [],
   "source": [
    "def boardToTuple(board):\n",
    "    return tuple([tuple([tuple(j) for j in l]) for l in board])\n",
    "\n",
    "def boardToList(board):\n",
    "    return [list([list(j) for j in l]) for l in board]"
   ]
  },
  {
   "cell_type": "code",
   "execution_count": 6,
   "metadata": {},
   "outputs": [],
   "source": [
    "def findAllGraphSearch(game, startingNode, num_nodes): \n",
    "    '''\n",
    "    findAllGraphSearch performs BFS from the startingNode but will not expand the same node twice. \n",
    "    '''\n",
    "    count = 0 \n",
    "    with tqdm(total = num_nodes) as pbar: \n",
    "        visited = dict()\n",
    "        \n",
    "        # Initialize a queue with the starting node. \n",
    "        unvisited = deque()\n",
    "        unvisited.append(startingNode) \n",
    "        visited[startingNode.board] = startingNode\n",
    "        \n",
    "        # Continue until there are no more unvisited nodes. \n",
    "        while len(unvisited) > 0:\n",
    "            count += 1\n",
    "            pbar.update() \n",
    "            \n",
    "            currNode = unvisited.popleft()\n",
    "            \n",
    "            # Check if the current game is over. If it is, skip this node\n",
    "            # This does not check if the game ends in a draw.\n",
    "            game.board = currNode.board\n",
    "            res = game.checkGameOver()\n",
    "            if res != 0: \n",
    "                continue\n",
    "                \n",
    "            # Find all of the children of the current node we are looking at\n",
    "            currNode.children = currNode.children\n",
    "            for action in game.getAllActions():\n",
    "                \n",
    "                # Create the child node\n",
    "                child = Node(copy.deepcopy(currNode.board))\n",
    "                child.currPlayer = game.turnChooser(currNode.currPlayer)\n",
    "                pieceToPlay = 1 if currNode.currPlayer == 0 else 2\n",
    "                child.board = boardToList(child.board)\n",
    "                child.board[action[0]][action[1]][action[2]] = pieceToPlay\n",
    "                child.parent = currNode\n",
    "                \n",
    "                # Convert to hashable\n",
    "                child.board = boardToTuple(child.board)\n",
    "                \n",
    "                # Check if we have already queued the same node to be visited\n",
    "                if child.board not in visited: \n",
    "                    visited[child.board] = child # Save the fact that we will look at this node later.  \n",
    "                    unvisited.append(child)          # Look at this child node in some later iteration\n",
    "                    currNode.children.append(child)  # Add this child node as a child of the current node\n",
    "                else:\n",
    "                    currNode.children.append(visited[child.board])\n",
    "        \n",
    "        pbar.update(num_nodes - count)\n",
    "        return visited"
   ]
  },
  {
   "cell_type": "code",
   "execution_count": 7,
   "metadata": {},
   "outputs": [],
   "source": [
    "def findAll(game, startingNode, num_nodes):\n",
    "    '''\n",
    "    findAll performs BFS from the startingNode. \n",
    "    '''\n",
    "    count = 0 \n",
    "    with tqdm(total = num_nodes) as pbar: \n",
    "        visited = [0] * num_nodes\n",
    "        index = 0 \n",
    "\n",
    "        # Initialize a queue with the starting node. \n",
    "        unvisited = deque()\n",
    "        unvisited.append(startingNode)\n",
    "\n",
    "        # Continue until there are no more unvisited nodes.\n",
    "        while len(unvisited) > 0:\n",
    "            count += 1\n",
    "            pbar.update()\n",
    "            # Store the new visited nodes          \n",
    "            currNode = unvisited.popleft()\n",
    "            visited[index] = currNode\n",
    "            index += 1\n",
    "\n",
    "            # If game is over, do not add the children\n",
    "            game.board = currNode.board\n",
    "            res = game.checkGameOver()\n",
    "            if res != 0: \n",
    "                continue\n",
    "\n",
    "            # Find all of the children \n",
    "            for action in game.getAllActions():\n",
    "                child = Node(copy.deepcopy(currNode.board))\n",
    "                child.currPlayer = game.turnChooser(currNode.currPlayer)\n",
    "                pieceToPlay = 1 if currNode.currPlayer == 0 else 2\n",
    "                child.board[action[0]][action[1]][action[2]] = pieceToPlay\n",
    "                child.parent = currNode\n",
    "\n",
    "                unvisited.append(child)\n",
    "                currNode.children.append(child)\n",
    "        \n",
    "        pbar.update(num_nodes - count) \n",
    "        return visited"
   ]
  },
  {
   "cell_type": "markdown",
   "metadata": {},
   "source": [
    "Now we generate the game tree for all game variants so we have data to train the neural network. Note that for many games the game tree is small enough to store in memory. There are 9 places to place the first piece, then 8 to place the second, etc.., so there are $9! = 362880$ states, many of which are not reachable because someone would win. "
   ]
  },
  {
   "cell_type": "markdown",
   "metadata": {},
   "source": [
    "## Clean up the data (if we allocated too much space)"
   ]
  },
  {
   "cell_type": "code",
   "execution_count": 8,
   "metadata": {},
   "outputs": [],
   "source": [
    "def cleanUpData(vertices):\n",
    "    with tqdm(total = len(vertices), desc=\"Removing Unused Allocated Space\") as pbar: \n",
    "        for v in range(len(vertices)):\n",
    "            pbar.update() \n",
    "            if vertices[v] == 0:\n",
    "                pbar.update(len(vertices) - v - 1) \n",
    "                vertices = vertices[0:v]\n",
    "                break \n",
    "\n",
    "    for v in tqdm(vertices, desc=\"Converting to Tensors\"): \n",
    "        v.board_torch = torch.FloatTensor(v.board) \n",
    "        \n",
    "    return vertices"
   ]
  },
  {
   "cell_type": "markdown",
   "metadata": {},
   "source": [
    "## Split into Training Set, Validation Set, and Test Set "
   ]
  },
  {
   "cell_type": "code",
   "execution_count": 9,
   "metadata": {},
   "outputs": [],
   "source": [
    "def splitData(vertices): \n",
    "    random.shuffle(vertices)\n",
    "\n",
    "    size = len(vertices)\n",
    "    training_set_size = int(size*0.8)\n",
    "    training_set = vertices[0:training_set_size]\n",
    "\n",
    "    test_set_end_index = int(0.9 * size)\n",
    "    test_set = vertices[training_set_size:test_set_end_index]\n",
    "\n",
    "    validation_set = vertices[test_set_end_index:]\n",
    "\n",
    "    assert (len(validation_set) + len(test_set) + len(training_set) == len(vertices))\n",
    "    \n",
    "    return test_set, training_set, validation_set"
   ]
  },
  {
   "cell_type": "code",
   "execution_count": 10,
   "metadata": {},
   "outputs": [],
   "source": [
    "def splitDataFromGraph(vertices): \n",
    "    keys = list(vertices.keys())\n",
    "    \n",
    "    random.shuffle(keys)\n",
    "\n",
    "    size = len(keys)\n",
    "    training_set_size = int(size*0.8)\n",
    "    training_set = keys[0:training_set_size]\n",
    "\n",
    "    test_set_end_index = int(0.9 * size)\n",
    "    test_set = keys[training_set_size:test_set_end_index]\n",
    "\n",
    "    validation_set = keys[test_set_end_index:]\n",
    "\n",
    "    return test_set, training_set, validation_set"
   ]
  },
  {
   "cell_type": "markdown",
   "metadata": {},
   "source": [
    "First we implement minimax so that we can evaluate a state. We define player 2 winning as -1, and player 1 winning as 1. If currPlayer is 0, it's player 1 to move."
   ]
  },
  {
   "cell_type": "code",
   "execution_count": 11,
   "metadata": {},
   "outputs": [],
   "source": [
    "memo = dict()\n",
    "def minimax(game, vertex, maxDepth = None): \n",
    "    \n",
    "    # Check if we already have the value for this vertex. \n",
    "    if vertex in memo and maxDepth is None: \n",
    "        return memo[vertex] \n",
    "    \n",
    "    game.board = vertex.board \n",
    "    res = game.getAllActions()\n",
    "    res2 = game.checkGameOver()\n",
    "    if res2 == 1:\n",
    "        memo[vertex] = 1\n",
    "        return 1 \n",
    "    elif res2 == 2: \n",
    "        memo[vertex] = -1 \n",
    "        return -1\n",
    "    elif len(res) == 0: \n",
    "        memo[vertex] = 0 \n",
    "        return 0\n",
    "    \n",
    "    # If we are not a terminal state but the maxDepth is 0, just return 0 \n",
    "    if maxDepth == 0: \n",
    "        return 0 \n",
    "    maxDepth -= 1 \n",
    "    \n",
    "    children = vertex.children\n",
    "    if vertex.currPlayer == 0: \n",
    "        val = -float('inf')\n",
    "    else: \n",
    "        val = float('inf')\n",
    "    \n",
    "    \n",
    "    for child in children: \n",
    "        child_val = minimax(game, child)\n",
    "        if vertex.currPlayer == 0: \n",
    "            val = max(val, child_val)\n",
    "        else: \n",
    "            val = min(val, child_val)\n",
    "\n",
    "    # Once we have computed the value for this vertex, save it. \n",
    "    memo[vertex] = val\n",
    "    return val"
   ]
  },
  {
   "cell_type": "markdown",
   "metadata": {},
   "source": [
    "Next we can train it"
   ]
  },
  {
   "cell_type": "markdown",
   "metadata": {},
   "source": [
    "## = Training on the GPU = (https://medium.com/dsnet/training-deep-neural-networks-on-a-gpu-with-pytorch-11079d89805)"
   ]
  },
  {
   "cell_type": "code",
   "execution_count": 12,
   "metadata": {},
   "outputs": [
    {
     "name": "stdout",
     "output_type": "stream",
     "text": [
      "cpu\n"
     ]
    }
   ],
   "source": [
    "def get_default_device():\n",
    "    if torch.cuda.is_available():\n",
    "        return torch.device('cuda')\n",
    "    else:\n",
    "        return torch.device('cpu')\n",
    "    \n",
    "device = get_default_device()\n",
    "device = torch.device('cpu')\n",
    "\n",
    "print(device)"
   ]
  },
  {
   "cell_type": "code",
   "execution_count": 13,
   "metadata": {},
   "outputs": [],
   "source": [
    "def to_device(data, device):\n",
    "    if isinstance(data, (list, tuple)):\n",
    "        return [to_device(x, device) for x in data]\n",
    "    return data.to(device, non_blocking=True)\n",
    "\n",
    "class DeviceDataLoader(): \n",
    "    def __init__(self, dl, device):\n",
    "        self.dl = dl\n",
    "        self.device = device\n",
    "        \n",
    "    def __iter__(self):\n",
    "        for b in self.dl:\n",
    "            yield to_device(b, self.device)\n",
    "        \n",
    "    def __len__(self):\n",
    "        return len(self.dl)"
   ]
  },
  {
   "cell_type": "markdown",
   "metadata": {},
   "source": [
    "# Training Step"
   ]
  },
  {
   "cell_type": "code",
   "execution_count": 14,
   "metadata": {},
   "outputs": [],
   "source": [
    "def getExpectedResults(data, game, batchSize, flatten): \n",
    "    expected = [0] * batchSize\n",
    "    nodes = random.sample(data, batchSize) \n",
    "    for i in range(batchSize): \n",
    "        if nodes[i] not in memo: \n",
    "            minimax(game, nodes[i])\n",
    "        expected[i] = torch.FloatTensor([memo[nodes[i]]])\n",
    "        \n",
    "        # Put the board in a format the neural net can use \n",
    "        if flatten:\n",
    "            nodes[i] = nodes[i].board_torch.reshape(-1)\n",
    "        else:\n",
    "            nodes[i] = nodes[i].board_torch.reshape(1, 3, 3)\n",
    "            \n",
    "    return nodes, expected \n",
    "        \n",
    "def train(data, game, net, trainCount, batchCount, num_epochs, start_lr, lrStepFactor, flatten=True):\n",
    "    # Move to GPU if necessary \n",
    "    net.to(device)\n",
    "    \n",
    "    lr_step = (start_lr / num_epochs) / lrStepFactor\n",
    "    \n",
    "    epoch = 0 \n",
    "    learning_rates = np.arange(start_lr, start_lr - num_epochs * lr_step, -lr_step)\n",
    "    losses = []\n",
    "    criterion = nn.MSELoss() # Using mean square error \n",
    "    batchSize = trainCount // batchCount\n",
    "    \n",
    "    for lr_var in tqdm(learning_rates, desc=f\"Neural Net Training\"):\n",
    "        epoch += 1\n",
    "        optimizer = optim.SGD(net.parameters(), lr=lr_var) #  create the optimizer  \n",
    "        L = [0] * batchCount \n",
    "        \n",
    "        allNodes = []\n",
    "        allExpected = []\n",
    "#         for batch in trange(batchCount, desc=f\"Moving data for epoch {epoch}\"):\n",
    "        for batch in range(batchCount): \n",
    "            nodes, expected = getExpectedResults(data, game, batchSize, flatten)\n",
    "            allNodes.append(torch.stack(nodes).to(device))\n",
    "            allExpected.append(expected)\n",
    "        \n",
    "#         for batch in trange(batchCount, desc=f\"Epoch {epoch}\"):   \n",
    "        for batch in range(batchCount):\n",
    "            # Get training data for one batch \n",
    "            outputs  = [0] * batchSize\n",
    "            nodes, expected = allNodes[batch], allExpected[batch] \n",
    "            \n",
    "            # Move training data to GPU if necessary \n",
    "            outputs = net(nodes) \n",
    "\n",
    "            # Update the neural network\n",
    "            optimizer.zero_grad()\n",
    "            expected = torch.stack(expected)\n",
    "            expected = expected.to(device)\n",
    "            loss = criterion(outputs, expected) \n",
    "            loss.backward()\n",
    "            optimizer.step()\n",
    "            L[batch] = loss.item()\n",
    "                \n",
    "        losses.append(L)\n",
    "        \n",
    "    return losses"
   ]
  },
  {
   "cell_type": "markdown",
   "metadata": {},
   "source": [
    "## Experiments (Results)\n",
    "\n",
    "First, we begin with the simplests case - 3x3. We determined empirically that training the first neural network with the parameters listed below would be sufficient to reach minimal loss. Then, we use these parameters to train the 4 different network topologies. After testing it seems that ```findAll``` is _slightly_ faster than ```findAllGraphSearch```, however, there are 2 benefits to using ```findAllGraphSearch```. \n",
    "\n",
    "1. It outputs a hashmap mapping board states to nodes. Although this does not currently give us a speed increase, we expect that this would enable speed increases in the training loop (e.g. by allowing us to use data loaders). \n",
    "\n",
    "\n",
    "2. It looks at significantly fewer nodes, which makes it faster overall. Further, since there is less duplicate data, it uses less memory to store all of the nodes. While the ```findAll``` looks at 986410 nodes, ```findAllGraphSearch``` looks at:"
   ]
  },
  {
   "cell_type": "code",
   "execution_count": 15,
   "metadata": {},
   "outputs": [],
   "source": [
    "memo = dict()\n",
    "def getGameTree(game, dim): \n",
    "    root = Node([[[0] * dim for _ in range(dim)]])\n",
    "    root.board = boardToTuple(root.board)\n",
    "    if dim == 3: \n",
    "        NUM_NODES = 1000000\n",
    "    else: \n",
    "        NUM_NODES = 1000000\n",
    "    \n",
    "    vertices = findAllGraphSearch(game, root, NUM_NODES) \n",
    "    test_set, training_set, validation_set = splitDataFromGraph(vertices)\n",
    "    return test_set, training_set, validation_set, vertices"
   ]
  },
  {
   "cell_type": "code",
   "execution_count": 16,
   "metadata": {},
   "outputs": [
    {
     "data": {
      "application/vnd.jupyter.widget-view+json": {
       "model_id": "3b5b7653296c47bb8fc0e952115fcaf4",
       "version_major": 2,
       "version_minor": 0
      },
      "text/plain": [
       "HBox(children=(IntProgress(value=0, max=1000000), HTML(value='')))"
      ]
     },
     "metadata": {},
     "output_type": "display_data"
    },
    {
     "name": "stdout",
     "output_type": "stream",
     "text": [
      "\n"
     ]
    },
    {
     "data": {
      "application/vnd.jupyter.widget-view+json": {
       "model_id": "a03fdaa9d03e457b80b7fb60ec49fde3",
       "version_major": 2,
       "version_minor": 0
      },
      "text/plain": [
       "HBox(children=(IntProgress(value=0, description='Converting to Tensors', max=4496, style=ProgressStyle(descrip…"
      ]
     },
     "metadata": {},
     "output_type": "display_data"
    },
    {
     "name": "stdout",
     "output_type": "stream",
     "text": [
      "\n"
     ]
    },
    {
     "data": {
      "application/vnd.jupyter.widget-view+json": {
       "model_id": "023d17b9d9bf47a4bfa7f7ed049dd4e8",
       "version_major": 2,
       "version_minor": 0
      },
      "text/plain": [
       "HBox(children=(IntProgress(value=0, description='Converting to Tensors', max=562, style=ProgressStyle(descript…"
      ]
     },
     "metadata": {},
     "output_type": "display_data"
    },
    {
     "name": "stdout",
     "output_type": "stream",
     "text": [
      "\n"
     ]
    },
    {
     "data": {
      "application/vnd.jupyter.widget-view+json": {
       "model_id": "a7c73a953f394748879a83fc44e67404",
       "version_major": 2,
       "version_minor": 0
      },
      "text/plain": [
       "HBox(children=(IntProgress(value=0, description='Converting to Tensors', max=562, style=ProgressStyle(descript…"
      ]
     },
     "metadata": {},
     "output_type": "display_data"
    },
    {
     "name": "stdout",
     "output_type": "stream",
     "text": [
      "\n"
     ]
    }
   ],
   "source": [
    "gameOverCheck = partial(checkGameOver, n=3)\n",
    "config = TicTacToeConfig(turnChooser=defaultTurnChooser, gameOverChecker=gameOverCheck, dimension=dim, threeDims=False)\n",
    "game = TicTacToe(None, None, None, config)\n",
    "    \n",
    "test_set_one, training_set_one, validation_set_one, vertices = getGameTree(game, 3)\n",
    "\n",
    "# For now, don't take advantage of the hashtable (this is only needed for graph search)\n",
    "training_set_one = [vertices[i] for i in training_set_one]\n",
    "for v in tqdm(training_set_one, desc=\"Converting to Tensors\"): \n",
    "    v.board_torch = torch.FloatTensor(v.board) \n",
    "\n",
    "validation_set_one = [vertices[i] for i in validation_set_one]\n",
    "for v in tqdm(validation_set_one, desc=\"Converting to Tensors\"): \n",
    "    v.board_torch = torch.FloatTensor(v.board)\n",
    "    \n",
    "test_set_one = [vertices[i] for i in test_set_one]\n",
    "for v in tqdm(test_set_one, desc=\"Converting to Tensors\"): \n",
    "    v.board_torch = torch.FloatTensor(v.board)\n",
    "        "
   ]
  },
  {
   "cell_type": "code",
   "execution_count": 17,
   "metadata": {},
   "outputs": [
    {
     "name": "stdout",
     "output_type": "stream",
     "text": [
      "4496 562 562 5620\n"
     ]
    }
   ],
   "source": [
    "print(len(training_set_one), \n",
    "      len(validation_set_one),\n",
    "      len(test_set_one),\n",
    "      len(training_set_one) + len(validation_set_one) + len(test_set_one))"
   ]
  },
  {
   "cell_type": "code",
   "execution_count": 52,
   "metadata": {
    "scrolled": true
   },
   "outputs": [
    {
     "data": {
      "application/vnd.jupyter.widget-view+json": {
       "model_id": "f839ef4ea04441f99fed81dc3265e794",
       "version_major": 2,
       "version_minor": 0
      },
      "text/plain": [
       "HBox(children=(IntProgress(value=0, description='Neural Net Training', max=2000, style=ProgressStyle(descripti…"
      ]
     },
     "metadata": {},
     "output_type": "display_data"
    },
    {
     "name": "stdout",
     "output_type": "stream",
     "text": [
      "\n"
     ]
    },
    {
     "data": {
      "application/vnd.jupyter.widget-view+json": {
       "model_id": "9c91b88da49e49aea3d6e602a37d0e3b",
       "version_major": 2,
       "version_minor": 0
      },
      "text/plain": [
       "HBox(children=(IntProgress(value=0, description='Neural Net Training', max=2000, style=ProgressStyle(descripti…"
      ]
     },
     "metadata": {},
     "output_type": "display_data"
    },
    {
     "name": "stdout",
     "output_type": "stream",
     "text": [
      "\n"
     ]
    },
    {
     "data": {
      "application/vnd.jupyter.widget-view+json": {
       "model_id": "f9cad35eee9d479ca026fc97028c8606",
       "version_major": 2,
       "version_minor": 0
      },
      "text/plain": [
       "HBox(children=(IntProgress(value=0, description='Neural Net Training', max=2000, style=ProgressStyle(descripti…"
      ]
     },
     "metadata": {},
     "output_type": "display_data"
    },
    {
     "name": "stdout",
     "output_type": "stream",
     "text": [
      "\n"
     ]
    },
    {
     "data": {
      "application/vnd.jupyter.widget-view+json": {
       "model_id": "db71e2a819a0414e99e2e1e45dc5c2e6",
       "version_major": 2,
       "version_minor": 0
      },
      "text/plain": [
       "HBox(children=(IntProgress(value=0, description='Neural Net Training', max=2000, style=ProgressStyle(descripti…"
      ]
     },
     "metadata": {},
     "output_type": "display_data"
    },
    {
     "name": "stdout",
     "output_type": "stream",
     "text": [
      "\n"
     ]
    }
   ],
   "source": [
    "trainCount = len(training_set_one)\n",
    "batchSize = 32\n",
    "batchCount = trainCount // batchSize \n",
    "startLR = 0.04\n",
    "numEpochs = 2000\n",
    "lrStepFactor = 1.5 \n",
    "\n",
    "results = dict() \n",
    "dimNets = nets[3]\n",
    "for netIndex in [0, 1, 2, 3]:\n",
    "    if netIndex == 2 or netIndex == 3:\n",
    "        r = train(training_set_one,\n",
    "                  game,\n",
    "                  dimNets[netIndex],\n",
    "                  trainCount, \n",
    "                  batchCount,\n",
    "                  numEpochs,\n",
    "                  startLR,\n",
    "                  lrStepFactor,\n",
    "                  False)\n",
    "    else:\n",
    "        r = train(training_set_one,\n",
    "                  game, \n",
    "                  dimNets[netIndex],\n",
    "                  trainCount,\n",
    "                  batchCount,\n",
    "                  numEpochs,\n",
    "                  startLR,\n",
    "                  lrStepFactor,\n",
    "                  True)\n",
    "    results[(3, netIndex)] = r"
   ]
  },
  {
   "cell_type": "markdown",
   "metadata": {},
   "source": [
    "Now we try training it for a 4x4 board (using the exact same neural network and same parameters)"
   ]
  },
  {
   "cell_type": "code",
   "execution_count": 50,
   "metadata": {},
   "outputs": [
    {
     "data": {
      "application/vnd.jupyter.widget-view+json": {
       "model_id": "c5b2aa0de99d4d5894fc907f475c4ca3",
       "version_major": 2,
       "version_minor": 0
      },
      "text/plain": [
       "HBox(children=(IntProgress(value=0, max=1000000), HTML(value='')))"
      ]
     },
     "metadata": {},
     "output_type": "display_data"
    },
    {
     "name": "stdout",
     "output_type": "stream",
     "text": [
      "\n"
     ]
    },
    {
     "ename": "KeyboardInterrupt",
     "evalue": "",
     "output_type": "error",
     "traceback": [
      "\u001b[1;31m---------------------------------------------------------------------------\u001b[0m",
      "\u001b[1;31mKeyboardInterrupt\u001b[0m                         Traceback (most recent call last)",
      "\u001b[1;32m<ipython-input-50-60a0b504adc9>\u001b[0m in \u001b[0;36m<module>\u001b[1;34m\u001b[0m\n\u001b[0;32m      3\u001b[0m \u001b[0mgame\u001b[0m \u001b[1;33m=\u001b[0m \u001b[0mTicTacToe\u001b[0m\u001b[1;33m(\u001b[0m\u001b[1;32mNone\u001b[0m\u001b[1;33m,\u001b[0m \u001b[1;32mNone\u001b[0m\u001b[1;33m,\u001b[0m \u001b[1;32mNone\u001b[0m\u001b[1;33m,\u001b[0m \u001b[0mconfig\u001b[0m\u001b[1;33m)\u001b[0m\u001b[1;33m\u001b[0m\u001b[1;33m\u001b[0m\u001b[0m\n\u001b[0;32m      4\u001b[0m \u001b[1;33m\u001b[0m\u001b[0m\n\u001b[1;32m----> 5\u001b[1;33m \u001b[0mtest_set\u001b[0m\u001b[1;33m,\u001b[0m \u001b[0mtraining_set\u001b[0m\u001b[1;33m,\u001b[0m \u001b[0mvalidation_set\u001b[0m \u001b[1;33m=\u001b[0m \u001b[0mgetGameTree\u001b[0m\u001b[1;33m(\u001b[0m\u001b[0mgame\u001b[0m\u001b[1;33m,\u001b[0m \u001b[1;36m4\u001b[0m\u001b[1;33m)\u001b[0m\u001b[1;33m\u001b[0m\u001b[1;33m\u001b[0m\u001b[0m\n\u001b[0m",
      "\u001b[1;32m<ipython-input-46-91868bbe35a1>\u001b[0m in \u001b[0;36mgetGameTree\u001b[1;34m(game, dim)\u001b[0m\n\u001b[0;32m      8\u001b[0m         \u001b[0mNUM_NODES\u001b[0m \u001b[1;33m=\u001b[0m \u001b[1;36m1000000\u001b[0m\u001b[1;33m\u001b[0m\u001b[1;33m\u001b[0m\u001b[0m\n\u001b[0;32m      9\u001b[0m \u001b[1;33m\u001b[0m\u001b[0m\n\u001b[1;32m---> 10\u001b[1;33m     \u001b[0mvertices\u001b[0m \u001b[1;33m=\u001b[0m \u001b[0mfindAllGraphSearch\u001b[0m\u001b[1;33m(\u001b[0m\u001b[0mgame\u001b[0m\u001b[1;33m,\u001b[0m \u001b[0mroot\u001b[0m\u001b[1;33m,\u001b[0m \u001b[0mNUM_NODES\u001b[0m\u001b[1;33m)\u001b[0m\u001b[1;33m\u001b[0m\u001b[1;33m\u001b[0m\u001b[0m\n\u001b[0m\u001b[0;32m     11\u001b[0m     \u001b[0mtest_set\u001b[0m\u001b[1;33m,\u001b[0m \u001b[0mtraining_set\u001b[0m\u001b[1;33m,\u001b[0m \u001b[0mvalidation_set\u001b[0m \u001b[1;33m=\u001b[0m \u001b[0msplitDataFromGraph\u001b[0m\u001b[1;33m(\u001b[0m\u001b[0mvertices\u001b[0m\u001b[1;33m)\u001b[0m\u001b[1;33m\u001b[0m\u001b[1;33m\u001b[0m\u001b[0m\n\u001b[0;32m     12\u001b[0m     \u001b[1;32mreturn\u001b[0m \u001b[0mtest_set\u001b[0m\u001b[1;33m,\u001b[0m \u001b[0mtraining_set\u001b[0m\u001b[1;33m,\u001b[0m \u001b[0mvalidation_set\u001b[0m\u001b[1;33m,\u001b[0m \u001b[0mvertices\u001b[0m\u001b[1;33m\u001b[0m\u001b[1;33m\u001b[0m\u001b[0m\n",
      "\u001b[1;32m<ipython-input-8-c4a5c1fd6a7c>\u001b[0m in \u001b[0;36mfindAllGraphSearch\u001b[1;34m(game, startingNode, num_nodes)\u001b[0m\n\u001b[0;32m     31\u001b[0m \u001b[1;33m\u001b[0m\u001b[0m\n\u001b[0;32m     32\u001b[0m                 \u001b[1;31m# Create the child node\u001b[0m\u001b[1;33m\u001b[0m\u001b[1;33m\u001b[0m\u001b[1;33m\u001b[0m\u001b[0m\n\u001b[1;32m---> 33\u001b[1;33m                 \u001b[0mchild\u001b[0m \u001b[1;33m=\u001b[0m \u001b[0mNode\u001b[0m\u001b[1;33m(\u001b[0m\u001b[0mcopy\u001b[0m\u001b[1;33m.\u001b[0m\u001b[0mdeepcopy\u001b[0m\u001b[1;33m(\u001b[0m\u001b[0mcurrNode\u001b[0m\u001b[1;33m.\u001b[0m\u001b[0mboard\u001b[0m\u001b[1;33m)\u001b[0m\u001b[1;33m)\u001b[0m\u001b[1;33m\u001b[0m\u001b[1;33m\u001b[0m\u001b[0m\n\u001b[0m\u001b[0;32m     34\u001b[0m                 \u001b[0mchild\u001b[0m\u001b[1;33m.\u001b[0m\u001b[0mcurrPlayer\u001b[0m \u001b[1;33m=\u001b[0m \u001b[0mgame\u001b[0m\u001b[1;33m.\u001b[0m\u001b[0mturnChooser\u001b[0m\u001b[1;33m(\u001b[0m\u001b[0mcurrNode\u001b[0m\u001b[1;33m.\u001b[0m\u001b[0mcurrPlayer\u001b[0m\u001b[1;33m)\u001b[0m\u001b[1;33m\u001b[0m\u001b[1;33m\u001b[0m\u001b[0m\n\u001b[0;32m     35\u001b[0m                 \u001b[0mpieceToPlay\u001b[0m \u001b[1;33m=\u001b[0m \u001b[1;36m1\u001b[0m \u001b[1;32mif\u001b[0m \u001b[0mcurrNode\u001b[0m\u001b[1;33m.\u001b[0m\u001b[0mcurrPlayer\u001b[0m \u001b[1;33m==\u001b[0m \u001b[1;36m0\u001b[0m \u001b[1;32melse\u001b[0m \u001b[1;36m2\u001b[0m\u001b[1;33m\u001b[0m\u001b[1;33m\u001b[0m\u001b[0m\n",
      "\u001b[1;32m~\\Anaconda3\\lib\\copy.py\u001b[0m in \u001b[0;36mdeepcopy\u001b[1;34m(x, memo, _nil)\u001b[0m\n\u001b[0;32m    148\u001b[0m     \u001b[0mcopier\u001b[0m \u001b[1;33m=\u001b[0m \u001b[0m_deepcopy_dispatch\u001b[0m\u001b[1;33m.\u001b[0m\u001b[0mget\u001b[0m\u001b[1;33m(\u001b[0m\u001b[0mcls\u001b[0m\u001b[1;33m)\u001b[0m\u001b[1;33m\u001b[0m\u001b[1;33m\u001b[0m\u001b[0m\n\u001b[0;32m    149\u001b[0m     \u001b[1;32mif\u001b[0m \u001b[0mcopier\u001b[0m\u001b[1;33m:\u001b[0m\u001b[1;33m\u001b[0m\u001b[1;33m\u001b[0m\u001b[0m\n\u001b[1;32m--> 150\u001b[1;33m         \u001b[0my\u001b[0m \u001b[1;33m=\u001b[0m \u001b[0mcopier\u001b[0m\u001b[1;33m(\u001b[0m\u001b[0mx\u001b[0m\u001b[1;33m,\u001b[0m \u001b[0mmemo\u001b[0m\u001b[1;33m)\u001b[0m\u001b[1;33m\u001b[0m\u001b[1;33m\u001b[0m\u001b[0m\n\u001b[0m\u001b[0;32m    151\u001b[0m     \u001b[1;32melse\u001b[0m\u001b[1;33m:\u001b[0m\u001b[1;33m\u001b[0m\u001b[1;33m\u001b[0m\u001b[0m\n\u001b[0;32m    152\u001b[0m         \u001b[1;32mtry\u001b[0m\u001b[1;33m:\u001b[0m\u001b[1;33m\u001b[0m\u001b[1;33m\u001b[0m\u001b[0m\n",
      "\u001b[1;32m~\\Anaconda3\\lib\\copy.py\u001b[0m in \u001b[0;36m_deepcopy_tuple\u001b[1;34m(x, memo, deepcopy)\u001b[0m\n\u001b[0;32m    218\u001b[0m \u001b[1;33m\u001b[0m\u001b[0m\n\u001b[0;32m    219\u001b[0m \u001b[1;32mdef\u001b[0m \u001b[0m_deepcopy_tuple\u001b[0m\u001b[1;33m(\u001b[0m\u001b[0mx\u001b[0m\u001b[1;33m,\u001b[0m \u001b[0mmemo\u001b[0m\u001b[1;33m,\u001b[0m \u001b[0mdeepcopy\u001b[0m\u001b[1;33m=\u001b[0m\u001b[0mdeepcopy\u001b[0m\u001b[1;33m)\u001b[0m\u001b[1;33m:\u001b[0m\u001b[1;33m\u001b[0m\u001b[1;33m\u001b[0m\u001b[0m\n\u001b[1;32m--> 220\u001b[1;33m     \u001b[0my\u001b[0m \u001b[1;33m=\u001b[0m \u001b[1;33m[\u001b[0m\u001b[0mdeepcopy\u001b[0m\u001b[1;33m(\u001b[0m\u001b[0ma\u001b[0m\u001b[1;33m,\u001b[0m \u001b[0mmemo\u001b[0m\u001b[1;33m)\u001b[0m \u001b[1;32mfor\u001b[0m \u001b[0ma\u001b[0m \u001b[1;32min\u001b[0m \u001b[0mx\u001b[0m\u001b[1;33m]\u001b[0m\u001b[1;33m\u001b[0m\u001b[1;33m\u001b[0m\u001b[0m\n\u001b[0m\u001b[0;32m    221\u001b[0m     \u001b[1;31m# We're not going to put the tuple in the memo, but it's still important we\u001b[0m\u001b[1;33m\u001b[0m\u001b[1;33m\u001b[0m\u001b[1;33m\u001b[0m\u001b[0m\n\u001b[0;32m    222\u001b[0m     \u001b[1;31m# check for it, in case the tuple contains recursive mutable structures.\u001b[0m\u001b[1;33m\u001b[0m\u001b[1;33m\u001b[0m\u001b[1;33m\u001b[0m\u001b[0m\n",
      "\u001b[1;32m~\\Anaconda3\\lib\\copy.py\u001b[0m in \u001b[0;36m<listcomp>\u001b[1;34m(.0)\u001b[0m\n\u001b[0;32m    218\u001b[0m \u001b[1;33m\u001b[0m\u001b[0m\n\u001b[0;32m    219\u001b[0m \u001b[1;32mdef\u001b[0m \u001b[0m_deepcopy_tuple\u001b[0m\u001b[1;33m(\u001b[0m\u001b[0mx\u001b[0m\u001b[1;33m,\u001b[0m \u001b[0mmemo\u001b[0m\u001b[1;33m,\u001b[0m \u001b[0mdeepcopy\u001b[0m\u001b[1;33m=\u001b[0m\u001b[0mdeepcopy\u001b[0m\u001b[1;33m)\u001b[0m\u001b[1;33m:\u001b[0m\u001b[1;33m\u001b[0m\u001b[1;33m\u001b[0m\u001b[0m\n\u001b[1;32m--> 220\u001b[1;33m     \u001b[0my\u001b[0m \u001b[1;33m=\u001b[0m \u001b[1;33m[\u001b[0m\u001b[0mdeepcopy\u001b[0m\u001b[1;33m(\u001b[0m\u001b[0ma\u001b[0m\u001b[1;33m,\u001b[0m \u001b[0mmemo\u001b[0m\u001b[1;33m)\u001b[0m \u001b[1;32mfor\u001b[0m \u001b[0ma\u001b[0m \u001b[1;32min\u001b[0m \u001b[0mx\u001b[0m\u001b[1;33m]\u001b[0m\u001b[1;33m\u001b[0m\u001b[1;33m\u001b[0m\u001b[0m\n\u001b[0m\u001b[0;32m    221\u001b[0m     \u001b[1;31m# We're not going to put the tuple in the memo, but it's still important we\u001b[0m\u001b[1;33m\u001b[0m\u001b[1;33m\u001b[0m\u001b[1;33m\u001b[0m\u001b[0m\n\u001b[0;32m    222\u001b[0m     \u001b[1;31m# check for it, in case the tuple contains recursive mutable structures.\u001b[0m\u001b[1;33m\u001b[0m\u001b[1;33m\u001b[0m\u001b[1;33m\u001b[0m\u001b[0m\n",
      "\u001b[1;32m~\\Anaconda3\\lib\\copy.py\u001b[0m in \u001b[0;36mdeepcopy\u001b[1;34m(x, memo, _nil)\u001b[0m\n\u001b[0;32m    148\u001b[0m     \u001b[0mcopier\u001b[0m \u001b[1;33m=\u001b[0m \u001b[0m_deepcopy_dispatch\u001b[0m\u001b[1;33m.\u001b[0m\u001b[0mget\u001b[0m\u001b[1;33m(\u001b[0m\u001b[0mcls\u001b[0m\u001b[1;33m)\u001b[0m\u001b[1;33m\u001b[0m\u001b[1;33m\u001b[0m\u001b[0m\n\u001b[0;32m    149\u001b[0m     \u001b[1;32mif\u001b[0m \u001b[0mcopier\u001b[0m\u001b[1;33m:\u001b[0m\u001b[1;33m\u001b[0m\u001b[1;33m\u001b[0m\u001b[0m\n\u001b[1;32m--> 150\u001b[1;33m         \u001b[0my\u001b[0m \u001b[1;33m=\u001b[0m \u001b[0mcopier\u001b[0m\u001b[1;33m(\u001b[0m\u001b[0mx\u001b[0m\u001b[1;33m,\u001b[0m \u001b[0mmemo\u001b[0m\u001b[1;33m)\u001b[0m\u001b[1;33m\u001b[0m\u001b[1;33m\u001b[0m\u001b[0m\n\u001b[0m\u001b[0;32m    151\u001b[0m     \u001b[1;32melse\u001b[0m\u001b[1;33m:\u001b[0m\u001b[1;33m\u001b[0m\u001b[1;33m\u001b[0m\u001b[0m\n\u001b[0;32m    152\u001b[0m         \u001b[1;32mtry\u001b[0m\u001b[1;33m:\u001b[0m\u001b[1;33m\u001b[0m\u001b[1;33m\u001b[0m\u001b[0m\n",
      "\u001b[1;32m~\\Anaconda3\\lib\\copy.py\u001b[0m in \u001b[0;36m_deepcopy_tuple\u001b[1;34m(x, memo, deepcopy)\u001b[0m\n\u001b[0;32m    218\u001b[0m \u001b[1;33m\u001b[0m\u001b[0m\n\u001b[0;32m    219\u001b[0m \u001b[1;32mdef\u001b[0m \u001b[0m_deepcopy_tuple\u001b[0m\u001b[1;33m(\u001b[0m\u001b[0mx\u001b[0m\u001b[1;33m,\u001b[0m \u001b[0mmemo\u001b[0m\u001b[1;33m,\u001b[0m \u001b[0mdeepcopy\u001b[0m\u001b[1;33m=\u001b[0m\u001b[0mdeepcopy\u001b[0m\u001b[1;33m)\u001b[0m\u001b[1;33m:\u001b[0m\u001b[1;33m\u001b[0m\u001b[1;33m\u001b[0m\u001b[0m\n\u001b[1;32m--> 220\u001b[1;33m     \u001b[0my\u001b[0m \u001b[1;33m=\u001b[0m \u001b[1;33m[\u001b[0m\u001b[0mdeepcopy\u001b[0m\u001b[1;33m(\u001b[0m\u001b[0ma\u001b[0m\u001b[1;33m,\u001b[0m \u001b[0mmemo\u001b[0m\u001b[1;33m)\u001b[0m \u001b[1;32mfor\u001b[0m \u001b[0ma\u001b[0m \u001b[1;32min\u001b[0m \u001b[0mx\u001b[0m\u001b[1;33m]\u001b[0m\u001b[1;33m\u001b[0m\u001b[1;33m\u001b[0m\u001b[0m\n\u001b[0m\u001b[0;32m    221\u001b[0m     \u001b[1;31m# We're not going to put the tuple in the memo, but it's still important we\u001b[0m\u001b[1;33m\u001b[0m\u001b[1;33m\u001b[0m\u001b[1;33m\u001b[0m\u001b[0m\n\u001b[0;32m    222\u001b[0m     \u001b[1;31m# check for it, in case the tuple contains recursive mutable structures.\u001b[0m\u001b[1;33m\u001b[0m\u001b[1;33m\u001b[0m\u001b[1;33m\u001b[0m\u001b[0m\n",
      "\u001b[1;32m~\\Anaconda3\\lib\\copy.py\u001b[0m in \u001b[0;36m<listcomp>\u001b[1;34m(.0)\u001b[0m\n\u001b[0;32m    218\u001b[0m \u001b[1;33m\u001b[0m\u001b[0m\n\u001b[0;32m    219\u001b[0m \u001b[1;32mdef\u001b[0m \u001b[0m_deepcopy_tuple\u001b[0m\u001b[1;33m(\u001b[0m\u001b[0mx\u001b[0m\u001b[1;33m,\u001b[0m \u001b[0mmemo\u001b[0m\u001b[1;33m,\u001b[0m \u001b[0mdeepcopy\u001b[0m\u001b[1;33m=\u001b[0m\u001b[0mdeepcopy\u001b[0m\u001b[1;33m)\u001b[0m\u001b[1;33m:\u001b[0m\u001b[1;33m\u001b[0m\u001b[1;33m\u001b[0m\u001b[0m\n\u001b[1;32m--> 220\u001b[1;33m     \u001b[0my\u001b[0m \u001b[1;33m=\u001b[0m \u001b[1;33m[\u001b[0m\u001b[0mdeepcopy\u001b[0m\u001b[1;33m(\u001b[0m\u001b[0ma\u001b[0m\u001b[1;33m,\u001b[0m \u001b[0mmemo\u001b[0m\u001b[1;33m)\u001b[0m \u001b[1;32mfor\u001b[0m \u001b[0ma\u001b[0m \u001b[1;32min\u001b[0m \u001b[0mx\u001b[0m\u001b[1;33m]\u001b[0m\u001b[1;33m\u001b[0m\u001b[1;33m\u001b[0m\u001b[0m\n\u001b[0m\u001b[0;32m    221\u001b[0m     \u001b[1;31m# We're not going to put the tuple in the memo, but it's still important we\u001b[0m\u001b[1;33m\u001b[0m\u001b[1;33m\u001b[0m\u001b[1;33m\u001b[0m\u001b[0m\n\u001b[0;32m    222\u001b[0m     \u001b[1;31m# check for it, in case the tuple contains recursive mutable structures.\u001b[0m\u001b[1;33m\u001b[0m\u001b[1;33m\u001b[0m\u001b[1;33m\u001b[0m\u001b[0m\n",
      "\u001b[1;32m~\\Anaconda3\\lib\\copy.py\u001b[0m in \u001b[0;36mdeepcopy\u001b[1;34m(x, memo, _nil)\u001b[0m\n\u001b[0;32m    146\u001b[0m     \u001b[0mcls\u001b[0m \u001b[1;33m=\u001b[0m \u001b[0mtype\u001b[0m\u001b[1;33m(\u001b[0m\u001b[0mx\u001b[0m\u001b[1;33m)\u001b[0m\u001b[1;33m\u001b[0m\u001b[1;33m\u001b[0m\u001b[0m\n\u001b[0;32m    147\u001b[0m \u001b[1;33m\u001b[0m\u001b[0m\n\u001b[1;32m--> 148\u001b[1;33m     \u001b[0mcopier\u001b[0m \u001b[1;33m=\u001b[0m \u001b[0m_deepcopy_dispatch\u001b[0m\u001b[1;33m.\u001b[0m\u001b[0mget\u001b[0m\u001b[1;33m(\u001b[0m\u001b[0mcls\u001b[0m\u001b[1;33m)\u001b[0m\u001b[1;33m\u001b[0m\u001b[1;33m\u001b[0m\u001b[0m\n\u001b[0m\u001b[0;32m    149\u001b[0m     \u001b[1;32mif\u001b[0m \u001b[0mcopier\u001b[0m\u001b[1;33m:\u001b[0m\u001b[1;33m\u001b[0m\u001b[1;33m\u001b[0m\u001b[0m\n\u001b[0;32m    150\u001b[0m         \u001b[0my\u001b[0m \u001b[1;33m=\u001b[0m \u001b[0mcopier\u001b[0m\u001b[1;33m(\u001b[0m\u001b[0mx\u001b[0m\u001b[1;33m,\u001b[0m \u001b[0mmemo\u001b[0m\u001b[1;33m)\u001b[0m\u001b[1;33m\u001b[0m\u001b[1;33m\u001b[0m\u001b[0m\n",
      "\u001b[1;31mKeyboardInterrupt\u001b[0m: "
     ]
    },
    {
     "data": {
      "application/vnd.jupyter.widget-view+json": {
       "model_id": "c5b2aa0de99d4d5894fc907f475c4ca3",
       "version_major": 2,
       "version_minor": 0
      },
      "text/plain": [
       "HBox(children=(IntProgress(value=0, max=1000000), HTML(value='')))"
      ]
     },
     "metadata": {},
     "output_type": "display_data"
    },
    {
     "name": "stdout",
     "output_type": "stream",
     "text": [
      "\n"
     ]
    },
    {
     "ename": "KeyboardInterrupt",
     "evalue": "",
     "output_type": "error",
     "traceback": [
      "\u001b[1;31m---------------------------------------------------------------------------\u001b[0m",
      "\u001b[1;31mKeyboardInterrupt\u001b[0m                         Traceback (most recent call last)",
      "\u001b[1;32m<ipython-input-50-60a0b504adc9>\u001b[0m in \u001b[0;36m<module>\u001b[1;34m\u001b[0m\n\u001b[0;32m      3\u001b[0m \u001b[0mgame\u001b[0m \u001b[1;33m=\u001b[0m \u001b[0mTicTacToe\u001b[0m\u001b[1;33m(\u001b[0m\u001b[1;32mNone\u001b[0m\u001b[1;33m,\u001b[0m \u001b[1;32mNone\u001b[0m\u001b[1;33m,\u001b[0m \u001b[1;32mNone\u001b[0m\u001b[1;33m,\u001b[0m \u001b[0mconfig\u001b[0m\u001b[1;33m)\u001b[0m\u001b[1;33m\u001b[0m\u001b[1;33m\u001b[0m\u001b[0m\n\u001b[0;32m      4\u001b[0m \u001b[1;33m\u001b[0m\u001b[0m\n\u001b[1;32m----> 5\u001b[1;33m \u001b[0mtest_set\u001b[0m\u001b[1;33m,\u001b[0m \u001b[0mtraining_set\u001b[0m\u001b[1;33m,\u001b[0m \u001b[0mvalidation_set\u001b[0m \u001b[1;33m=\u001b[0m \u001b[0mgetGameTree\u001b[0m\u001b[1;33m(\u001b[0m\u001b[0mgame\u001b[0m\u001b[1;33m,\u001b[0m \u001b[1;36m4\u001b[0m\u001b[1;33m)\u001b[0m\u001b[1;33m\u001b[0m\u001b[1;33m\u001b[0m\u001b[0m\n\u001b[0m",
      "\u001b[1;32m<ipython-input-46-91868bbe35a1>\u001b[0m in \u001b[0;36mgetGameTree\u001b[1;34m(game, dim)\u001b[0m\n\u001b[0;32m      8\u001b[0m         \u001b[0mNUM_NODES\u001b[0m \u001b[1;33m=\u001b[0m \u001b[1;36m1000000\u001b[0m\u001b[1;33m\u001b[0m\u001b[1;33m\u001b[0m\u001b[0m\n\u001b[0;32m      9\u001b[0m \u001b[1;33m\u001b[0m\u001b[0m\n\u001b[1;32m---> 10\u001b[1;33m     \u001b[0mvertices\u001b[0m \u001b[1;33m=\u001b[0m \u001b[0mfindAllGraphSearch\u001b[0m\u001b[1;33m(\u001b[0m\u001b[0mgame\u001b[0m\u001b[1;33m,\u001b[0m \u001b[0mroot\u001b[0m\u001b[1;33m,\u001b[0m \u001b[0mNUM_NODES\u001b[0m\u001b[1;33m)\u001b[0m\u001b[1;33m\u001b[0m\u001b[1;33m\u001b[0m\u001b[0m\n\u001b[0m\u001b[0;32m     11\u001b[0m     \u001b[0mtest_set\u001b[0m\u001b[1;33m,\u001b[0m \u001b[0mtraining_set\u001b[0m\u001b[1;33m,\u001b[0m \u001b[0mvalidation_set\u001b[0m \u001b[1;33m=\u001b[0m \u001b[0msplitDataFromGraph\u001b[0m\u001b[1;33m(\u001b[0m\u001b[0mvertices\u001b[0m\u001b[1;33m)\u001b[0m\u001b[1;33m\u001b[0m\u001b[1;33m\u001b[0m\u001b[0m\n\u001b[0;32m     12\u001b[0m     \u001b[1;32mreturn\u001b[0m \u001b[0mtest_set\u001b[0m\u001b[1;33m,\u001b[0m \u001b[0mtraining_set\u001b[0m\u001b[1;33m,\u001b[0m \u001b[0mvalidation_set\u001b[0m\u001b[1;33m,\u001b[0m \u001b[0mvertices\u001b[0m\u001b[1;33m\u001b[0m\u001b[1;33m\u001b[0m\u001b[0m\n",
      "\u001b[1;32m<ipython-input-8-c4a5c1fd6a7c>\u001b[0m in \u001b[0;36mfindAllGraphSearch\u001b[1;34m(game, startingNode, num_nodes)\u001b[0m\n\u001b[0;32m     31\u001b[0m \u001b[1;33m\u001b[0m\u001b[0m\n\u001b[0;32m     32\u001b[0m                 \u001b[1;31m# Create the child node\u001b[0m\u001b[1;33m\u001b[0m\u001b[1;33m\u001b[0m\u001b[1;33m\u001b[0m\u001b[0m\n\u001b[1;32m---> 33\u001b[1;33m                 \u001b[0mchild\u001b[0m \u001b[1;33m=\u001b[0m \u001b[0mNode\u001b[0m\u001b[1;33m(\u001b[0m\u001b[0mcopy\u001b[0m\u001b[1;33m.\u001b[0m\u001b[0mdeepcopy\u001b[0m\u001b[1;33m(\u001b[0m\u001b[0mcurrNode\u001b[0m\u001b[1;33m.\u001b[0m\u001b[0mboard\u001b[0m\u001b[1;33m)\u001b[0m\u001b[1;33m)\u001b[0m\u001b[1;33m\u001b[0m\u001b[1;33m\u001b[0m\u001b[0m\n\u001b[0m\u001b[0;32m     34\u001b[0m                 \u001b[0mchild\u001b[0m\u001b[1;33m.\u001b[0m\u001b[0mcurrPlayer\u001b[0m \u001b[1;33m=\u001b[0m \u001b[0mgame\u001b[0m\u001b[1;33m.\u001b[0m\u001b[0mturnChooser\u001b[0m\u001b[1;33m(\u001b[0m\u001b[0mcurrNode\u001b[0m\u001b[1;33m.\u001b[0m\u001b[0mcurrPlayer\u001b[0m\u001b[1;33m)\u001b[0m\u001b[1;33m\u001b[0m\u001b[1;33m\u001b[0m\u001b[0m\n\u001b[0;32m     35\u001b[0m                 \u001b[0mpieceToPlay\u001b[0m \u001b[1;33m=\u001b[0m \u001b[1;36m1\u001b[0m \u001b[1;32mif\u001b[0m \u001b[0mcurrNode\u001b[0m\u001b[1;33m.\u001b[0m\u001b[0mcurrPlayer\u001b[0m \u001b[1;33m==\u001b[0m \u001b[1;36m0\u001b[0m \u001b[1;32melse\u001b[0m \u001b[1;36m2\u001b[0m\u001b[1;33m\u001b[0m\u001b[1;33m\u001b[0m\u001b[0m\n",
      "\u001b[1;32m~\\Anaconda3\\lib\\copy.py\u001b[0m in \u001b[0;36mdeepcopy\u001b[1;34m(x, memo, _nil)\u001b[0m\n\u001b[0;32m    148\u001b[0m     \u001b[0mcopier\u001b[0m \u001b[1;33m=\u001b[0m \u001b[0m_deepcopy_dispatch\u001b[0m\u001b[1;33m.\u001b[0m\u001b[0mget\u001b[0m\u001b[1;33m(\u001b[0m\u001b[0mcls\u001b[0m\u001b[1;33m)\u001b[0m\u001b[1;33m\u001b[0m\u001b[1;33m\u001b[0m\u001b[0m\n\u001b[0;32m    149\u001b[0m     \u001b[1;32mif\u001b[0m \u001b[0mcopier\u001b[0m\u001b[1;33m:\u001b[0m\u001b[1;33m\u001b[0m\u001b[1;33m\u001b[0m\u001b[0m\n\u001b[1;32m--> 150\u001b[1;33m         \u001b[0my\u001b[0m \u001b[1;33m=\u001b[0m \u001b[0mcopier\u001b[0m\u001b[1;33m(\u001b[0m\u001b[0mx\u001b[0m\u001b[1;33m,\u001b[0m \u001b[0mmemo\u001b[0m\u001b[1;33m)\u001b[0m\u001b[1;33m\u001b[0m\u001b[1;33m\u001b[0m\u001b[0m\n\u001b[0m\u001b[0;32m    151\u001b[0m     \u001b[1;32melse\u001b[0m\u001b[1;33m:\u001b[0m\u001b[1;33m\u001b[0m\u001b[1;33m\u001b[0m\u001b[0m\n\u001b[0;32m    152\u001b[0m         \u001b[1;32mtry\u001b[0m\u001b[1;33m:\u001b[0m\u001b[1;33m\u001b[0m\u001b[1;33m\u001b[0m\u001b[0m\n",
      "\u001b[1;32m~\\Anaconda3\\lib\\copy.py\u001b[0m in \u001b[0;36m_deepcopy_tuple\u001b[1;34m(x, memo, deepcopy)\u001b[0m\n\u001b[0;32m    218\u001b[0m \u001b[1;33m\u001b[0m\u001b[0m\n\u001b[0;32m    219\u001b[0m \u001b[1;32mdef\u001b[0m \u001b[0m_deepcopy_tuple\u001b[0m\u001b[1;33m(\u001b[0m\u001b[0mx\u001b[0m\u001b[1;33m,\u001b[0m \u001b[0mmemo\u001b[0m\u001b[1;33m,\u001b[0m \u001b[0mdeepcopy\u001b[0m\u001b[1;33m=\u001b[0m\u001b[0mdeepcopy\u001b[0m\u001b[1;33m)\u001b[0m\u001b[1;33m:\u001b[0m\u001b[1;33m\u001b[0m\u001b[1;33m\u001b[0m\u001b[0m\n\u001b[1;32m--> 220\u001b[1;33m     \u001b[0my\u001b[0m \u001b[1;33m=\u001b[0m \u001b[1;33m[\u001b[0m\u001b[0mdeepcopy\u001b[0m\u001b[1;33m(\u001b[0m\u001b[0ma\u001b[0m\u001b[1;33m,\u001b[0m \u001b[0mmemo\u001b[0m\u001b[1;33m)\u001b[0m \u001b[1;32mfor\u001b[0m \u001b[0ma\u001b[0m \u001b[1;32min\u001b[0m \u001b[0mx\u001b[0m\u001b[1;33m]\u001b[0m\u001b[1;33m\u001b[0m\u001b[1;33m\u001b[0m\u001b[0m\n\u001b[0m\u001b[0;32m    221\u001b[0m     \u001b[1;31m# We're not going to put the tuple in the memo, but it's still important we\u001b[0m\u001b[1;33m\u001b[0m\u001b[1;33m\u001b[0m\u001b[1;33m\u001b[0m\u001b[0m\n\u001b[0;32m    222\u001b[0m     \u001b[1;31m# check for it, in case the tuple contains recursive mutable structures.\u001b[0m\u001b[1;33m\u001b[0m\u001b[1;33m\u001b[0m\u001b[1;33m\u001b[0m\u001b[0m\n",
      "\u001b[1;32m~\\Anaconda3\\lib\\copy.py\u001b[0m in \u001b[0;36m<listcomp>\u001b[1;34m(.0)\u001b[0m\n\u001b[0;32m    218\u001b[0m \u001b[1;33m\u001b[0m\u001b[0m\n\u001b[0;32m    219\u001b[0m \u001b[1;32mdef\u001b[0m \u001b[0m_deepcopy_tuple\u001b[0m\u001b[1;33m(\u001b[0m\u001b[0mx\u001b[0m\u001b[1;33m,\u001b[0m \u001b[0mmemo\u001b[0m\u001b[1;33m,\u001b[0m \u001b[0mdeepcopy\u001b[0m\u001b[1;33m=\u001b[0m\u001b[0mdeepcopy\u001b[0m\u001b[1;33m)\u001b[0m\u001b[1;33m:\u001b[0m\u001b[1;33m\u001b[0m\u001b[1;33m\u001b[0m\u001b[0m\n\u001b[1;32m--> 220\u001b[1;33m     \u001b[0my\u001b[0m \u001b[1;33m=\u001b[0m \u001b[1;33m[\u001b[0m\u001b[0mdeepcopy\u001b[0m\u001b[1;33m(\u001b[0m\u001b[0ma\u001b[0m\u001b[1;33m,\u001b[0m \u001b[0mmemo\u001b[0m\u001b[1;33m)\u001b[0m \u001b[1;32mfor\u001b[0m \u001b[0ma\u001b[0m \u001b[1;32min\u001b[0m \u001b[0mx\u001b[0m\u001b[1;33m]\u001b[0m\u001b[1;33m\u001b[0m\u001b[1;33m\u001b[0m\u001b[0m\n\u001b[0m\u001b[0;32m    221\u001b[0m     \u001b[1;31m# We're not going to put the tuple in the memo, but it's still important we\u001b[0m\u001b[1;33m\u001b[0m\u001b[1;33m\u001b[0m\u001b[1;33m\u001b[0m\u001b[0m\n\u001b[0;32m    222\u001b[0m     \u001b[1;31m# check for it, in case the tuple contains recursive mutable structures.\u001b[0m\u001b[1;33m\u001b[0m\u001b[1;33m\u001b[0m\u001b[1;33m\u001b[0m\u001b[0m\n",
      "\u001b[1;32m~\\Anaconda3\\lib\\copy.py\u001b[0m in \u001b[0;36mdeepcopy\u001b[1;34m(x, memo, _nil)\u001b[0m\n\u001b[0;32m    148\u001b[0m     \u001b[0mcopier\u001b[0m \u001b[1;33m=\u001b[0m \u001b[0m_deepcopy_dispatch\u001b[0m\u001b[1;33m.\u001b[0m\u001b[0mget\u001b[0m\u001b[1;33m(\u001b[0m\u001b[0mcls\u001b[0m\u001b[1;33m)\u001b[0m\u001b[1;33m\u001b[0m\u001b[1;33m\u001b[0m\u001b[0m\n\u001b[0;32m    149\u001b[0m     \u001b[1;32mif\u001b[0m \u001b[0mcopier\u001b[0m\u001b[1;33m:\u001b[0m\u001b[1;33m\u001b[0m\u001b[1;33m\u001b[0m\u001b[0m\n\u001b[1;32m--> 150\u001b[1;33m         \u001b[0my\u001b[0m \u001b[1;33m=\u001b[0m \u001b[0mcopier\u001b[0m\u001b[1;33m(\u001b[0m\u001b[0mx\u001b[0m\u001b[1;33m,\u001b[0m \u001b[0mmemo\u001b[0m\u001b[1;33m)\u001b[0m\u001b[1;33m\u001b[0m\u001b[1;33m\u001b[0m\u001b[0m\n\u001b[0m\u001b[0;32m    151\u001b[0m     \u001b[1;32melse\u001b[0m\u001b[1;33m:\u001b[0m\u001b[1;33m\u001b[0m\u001b[1;33m\u001b[0m\u001b[0m\n\u001b[0;32m    152\u001b[0m         \u001b[1;32mtry\u001b[0m\u001b[1;33m:\u001b[0m\u001b[1;33m\u001b[0m\u001b[1;33m\u001b[0m\u001b[0m\n",
      "\u001b[1;32m~\\Anaconda3\\lib\\copy.py\u001b[0m in \u001b[0;36m_deepcopy_tuple\u001b[1;34m(x, memo, deepcopy)\u001b[0m\n\u001b[0;32m    218\u001b[0m \u001b[1;33m\u001b[0m\u001b[0m\n\u001b[0;32m    219\u001b[0m \u001b[1;32mdef\u001b[0m \u001b[0m_deepcopy_tuple\u001b[0m\u001b[1;33m(\u001b[0m\u001b[0mx\u001b[0m\u001b[1;33m,\u001b[0m \u001b[0mmemo\u001b[0m\u001b[1;33m,\u001b[0m \u001b[0mdeepcopy\u001b[0m\u001b[1;33m=\u001b[0m\u001b[0mdeepcopy\u001b[0m\u001b[1;33m)\u001b[0m\u001b[1;33m:\u001b[0m\u001b[1;33m\u001b[0m\u001b[1;33m\u001b[0m\u001b[0m\n\u001b[1;32m--> 220\u001b[1;33m     \u001b[0my\u001b[0m \u001b[1;33m=\u001b[0m \u001b[1;33m[\u001b[0m\u001b[0mdeepcopy\u001b[0m\u001b[1;33m(\u001b[0m\u001b[0ma\u001b[0m\u001b[1;33m,\u001b[0m \u001b[0mmemo\u001b[0m\u001b[1;33m)\u001b[0m \u001b[1;32mfor\u001b[0m \u001b[0ma\u001b[0m \u001b[1;32min\u001b[0m \u001b[0mx\u001b[0m\u001b[1;33m]\u001b[0m\u001b[1;33m\u001b[0m\u001b[1;33m\u001b[0m\u001b[0m\n\u001b[0m\u001b[0;32m    221\u001b[0m     \u001b[1;31m# We're not going to put the tuple in the memo, but it's still important we\u001b[0m\u001b[1;33m\u001b[0m\u001b[1;33m\u001b[0m\u001b[1;33m\u001b[0m\u001b[0m\n\u001b[0;32m    222\u001b[0m     \u001b[1;31m# check for it, in case the tuple contains recursive mutable structures.\u001b[0m\u001b[1;33m\u001b[0m\u001b[1;33m\u001b[0m\u001b[1;33m\u001b[0m\u001b[0m\n",
      "\u001b[1;32m~\\Anaconda3\\lib\\copy.py\u001b[0m in \u001b[0;36m<listcomp>\u001b[1;34m(.0)\u001b[0m\n\u001b[0;32m    218\u001b[0m \u001b[1;33m\u001b[0m\u001b[0m\n\u001b[0;32m    219\u001b[0m \u001b[1;32mdef\u001b[0m \u001b[0m_deepcopy_tuple\u001b[0m\u001b[1;33m(\u001b[0m\u001b[0mx\u001b[0m\u001b[1;33m,\u001b[0m \u001b[0mmemo\u001b[0m\u001b[1;33m,\u001b[0m \u001b[0mdeepcopy\u001b[0m\u001b[1;33m=\u001b[0m\u001b[0mdeepcopy\u001b[0m\u001b[1;33m)\u001b[0m\u001b[1;33m:\u001b[0m\u001b[1;33m\u001b[0m\u001b[1;33m\u001b[0m\u001b[0m\n\u001b[1;32m--> 220\u001b[1;33m     \u001b[0my\u001b[0m \u001b[1;33m=\u001b[0m \u001b[1;33m[\u001b[0m\u001b[0mdeepcopy\u001b[0m\u001b[1;33m(\u001b[0m\u001b[0ma\u001b[0m\u001b[1;33m,\u001b[0m \u001b[0mmemo\u001b[0m\u001b[1;33m)\u001b[0m \u001b[1;32mfor\u001b[0m \u001b[0ma\u001b[0m \u001b[1;32min\u001b[0m \u001b[0mx\u001b[0m\u001b[1;33m]\u001b[0m\u001b[1;33m\u001b[0m\u001b[1;33m\u001b[0m\u001b[0m\n\u001b[0m\u001b[0;32m    221\u001b[0m     \u001b[1;31m# We're not going to put the tuple in the memo, but it's still important we\u001b[0m\u001b[1;33m\u001b[0m\u001b[1;33m\u001b[0m\u001b[1;33m\u001b[0m\u001b[0m\n\u001b[0;32m    222\u001b[0m     \u001b[1;31m# check for it, in case the tuple contains recursive mutable structures.\u001b[0m\u001b[1;33m\u001b[0m\u001b[1;33m\u001b[0m\u001b[1;33m\u001b[0m\u001b[0m\n",
      "\u001b[1;32m~\\Anaconda3\\lib\\copy.py\u001b[0m in \u001b[0;36mdeepcopy\u001b[1;34m(x, memo, _nil)\u001b[0m\n\u001b[0;32m    146\u001b[0m     \u001b[0mcls\u001b[0m \u001b[1;33m=\u001b[0m \u001b[0mtype\u001b[0m\u001b[1;33m(\u001b[0m\u001b[0mx\u001b[0m\u001b[1;33m)\u001b[0m\u001b[1;33m\u001b[0m\u001b[1;33m\u001b[0m\u001b[0m\n\u001b[0;32m    147\u001b[0m \u001b[1;33m\u001b[0m\u001b[0m\n\u001b[1;32m--> 148\u001b[1;33m     \u001b[0mcopier\u001b[0m \u001b[1;33m=\u001b[0m \u001b[0m_deepcopy_dispatch\u001b[0m\u001b[1;33m.\u001b[0m\u001b[0mget\u001b[0m\u001b[1;33m(\u001b[0m\u001b[0mcls\u001b[0m\u001b[1;33m)\u001b[0m\u001b[1;33m\u001b[0m\u001b[1;33m\u001b[0m\u001b[0m\n\u001b[0m\u001b[0;32m    149\u001b[0m     \u001b[1;32mif\u001b[0m \u001b[0mcopier\u001b[0m\u001b[1;33m:\u001b[0m\u001b[1;33m\u001b[0m\u001b[1;33m\u001b[0m\u001b[0m\n\u001b[0;32m    150\u001b[0m         \u001b[0my\u001b[0m \u001b[1;33m=\u001b[0m \u001b[0mcopier\u001b[0m\u001b[1;33m(\u001b[0m\u001b[0mx\u001b[0m\u001b[1;33m,\u001b[0m \u001b[0mmemo\u001b[0m\u001b[1;33m)\u001b[0m\u001b[1;33m\u001b[0m\u001b[1;33m\u001b[0m\u001b[0m\n",
      "\u001b[1;31mKeyboardInterrupt\u001b[0m: "
     ]
    }
   ],
   "source": [
    "gameOverCheck = partial(checkGameOver, n=4)\n",
    "config = TicTacToeConfig(turnChooser=defaultTurnChooser, gameOverChecker=gameOverCheck, dimension=5, threeDims=False)\n",
    "game = TicTacToe(None, None, None, config)\n",
    "\n",
    "test_set, training_set, validation_set = getGameTree(game, 4)"
   ]
  },
  {
   "cell_type": "code",
   "execution_count": null,
   "metadata": {},
   "outputs": [],
   "source": [
    "trainCount = 1000\n",
    "batchSize = 32\n",
    "batchCount = trainCount // batchSize \n",
    "startLR = 0.04\n",
    "numEpochs = 5\n",
    "lrStepFactor = 1.5 \n",
    "\n",
    "results = dict() \n",
    "dimNets = nets[4]\n",
    "for netIndex in [0, 1, 2, 3]:\n",
    "    if netIndex == 2 or netIndex == 3:\n",
    "        r = train(training_set, game, dimNets[netIndex], trainCount, batchCount, numEpochs, startLR, lrStepFactor, False)\n",
    "    else:\n",
    "        r = train(training_set, game, dimNets[netIndex], trainCount, batchCount, numEpochs, startLR, lrStepFactor, True)\n",
    "    results[(5, netIndex)] = r"
   ]
  },
  {
   "cell_type": "markdown",
   "metadata": {},
   "source": [
    "Now we try training it for a 5x5 board (using the exact same neural networks and same parameters)."
   ]
  },
  {
   "cell_type": "code",
   "execution_count": null,
   "metadata": {},
   "outputs": [],
   "source": [
    "gameOverCheck = partial(checkGameOver, n=5)\n",
    "config = TicTacToeConfig(turnChooser=defaultTurnChooser, gameOverChecker=gameOverCheck, dimension=7, threeDims=False)\n",
    "game = TicTacToe(None, None, None, config)\n",
    "\n",
    "vertices = getGameTree(game, 5)"
   ]
  },
  {
   "cell_type": "markdown",
   "metadata": {},
   "source": [
    "As we can see, this tree is way too large to even store in memory and create. Finding the minimax values for nodes in the tree would also be extremely slow, even if we had the entire tree."
   ]
  },
  {
   "cell_type": "code",
   "execution_count": null,
   "metadata": {},
   "outputs": [],
   "source": [
    "trainCount = 1000\n",
    "batchSize = 32\n",
    "batchCount = trainCount // batchSize \n",
    "startLR = 0.04\n",
    "numEpochs = 5\n",
    "lrStepFactor = 1.5 \n",
    "\n",
    "results = dict() \n",
    "dimNets = nets[7]\n",
    "for netIndex in [0, 1, 2, 3]:\n",
    "    if netIndex == 2 or netIndex == 3:\n",
    "        r = train(training_set, game, dimNets[netIndex], trainCount, batchCount, numEpochs, startLR, lrStepFactor, False)\n",
    "    else:\n",
    "        r = train(training_set, game, dimNets[netIndex], trainCount, batchCount, numEpochs, startLR, lrStepFactor, True)\n",
    "    results[(7, netIndex)] = r"
   ]
  },
  {
   "cell_type": "markdown",
   "metadata": {},
   "source": [
    "# Visualizing the Results\n",
    "\n",
    "First, we plot the loss as the network is being trained: "
   ]
  },
  {
   "cell_type": "code",
   "execution_count": 19,
   "metadata": {},
   "outputs": [],
   "source": [
    "def do_plot(L, chunkSize, showEpochs = True): \n",
    "    L2 = []\n",
    "    epoch_index = 0 \n",
    "    for epoch in L:\n",
    "        if showEpochs: \n",
    "            plt.axvline(x=len(L2), color=\"r\", linestyle='dashed')\n",
    "        for i in range(0, len(epoch), chunkSize):\n",
    "            if len(epoch) - i < chunkSize:\n",
    "                amount = len(epoch) - i\n",
    "            else: \n",
    "                amount = chunkSize \n",
    "            L2.append(sum(epoch[i:i+amount])/amount)\n",
    "        \n",
    "    \n",
    "    plt.plot(L2)\n",
    "    plt.show()"
   ]
  },
  {
   "cell_type": "code",
   "execution_count": 20,
   "metadata": {},
   "outputs": [
    {
     "data": {
      "image/png": "[encoded data removed]",
      "text/plain": [
       "<Figure size 432x288 with 1 Axes>"
      ]
     },
     "metadata": {
      "needs_background": "light"
     },
     "output_type": "display_data"
    },
    {
     "data": {
      "image/png": "[encoded data removed]",
      "text/plain": [
       "<Figure size 432x288 with 1 Axes>"
      ]
     },
     "metadata": {
      "needs_background": "light"
     },
     "output_type": "display_data"
    },
    {
     "ename": "KeyError",
     "evalue": "(3, 2)",
     "output_type": "error",
     "traceback": [
      "\u001b[1;31m---------------------------------------------------------------------------\u001b[0m",
      "\u001b[1;31mKeyError\u001b[0m                                  Traceback (most recent call last)",
      "\u001b[1;32m<ipython-input-20-3c3ecc7ff863>\u001b[0m in \u001b[0;36m<module>\u001b[1;34m\u001b[0m\n\u001b[0;32m      2\u001b[0m \u001b[0mdo_plot\u001b[0m\u001b[1;33m(\u001b[0m\u001b[0mresults\u001b[0m\u001b[1;33m[\u001b[0m\u001b[1;33m(\u001b[0m\u001b[1;36m3\u001b[0m\u001b[1;33m,\u001b[0m\u001b[1;36m0\u001b[0m\u001b[1;33m)\u001b[0m\u001b[1;33m]\u001b[0m\u001b[1;33m,\u001b[0m \u001b[0mCHUNK_SIZE\u001b[0m\u001b[1;33m,\u001b[0m \u001b[1;32mFalse\u001b[0m\u001b[1;33m)\u001b[0m\u001b[1;33m\u001b[0m\u001b[1;33m\u001b[0m\u001b[0m\n\u001b[0;32m      3\u001b[0m \u001b[0mdo_plot\u001b[0m\u001b[1;33m(\u001b[0m\u001b[0mresults\u001b[0m\u001b[1;33m[\u001b[0m\u001b[1;33m(\u001b[0m\u001b[1;36m3\u001b[0m\u001b[1;33m,\u001b[0m\u001b[1;36m1\u001b[0m\u001b[1;33m)\u001b[0m\u001b[1;33m]\u001b[0m\u001b[1;33m,\u001b[0m \u001b[0mCHUNK_SIZE\u001b[0m\u001b[1;33m,\u001b[0m \u001b[1;32mFalse\u001b[0m\u001b[1;33m)\u001b[0m\u001b[1;33m\u001b[0m\u001b[1;33m\u001b[0m\u001b[0m\n\u001b[1;32m----> 4\u001b[1;33m \u001b[0mdo_plot\u001b[0m\u001b[1;33m(\u001b[0m\u001b[0mresults\u001b[0m\u001b[1;33m[\u001b[0m\u001b[1;33m(\u001b[0m\u001b[1;36m3\u001b[0m\u001b[1;33m,\u001b[0m\u001b[1;36m2\u001b[0m\u001b[1;33m)\u001b[0m\u001b[1;33m]\u001b[0m\u001b[1;33m,\u001b[0m \u001b[0mCHUNK_SIZE\u001b[0m\u001b[1;33m,\u001b[0m \u001b[1;32mFalse\u001b[0m\u001b[1;33m)\u001b[0m\u001b[1;33m\u001b[0m\u001b[1;33m\u001b[0m\u001b[0m\n\u001b[0m\u001b[0;32m      5\u001b[0m \u001b[0mdo_plot\u001b[0m\u001b[1;33m(\u001b[0m\u001b[0mresults\u001b[0m\u001b[1;33m[\u001b[0m\u001b[1;33m(\u001b[0m\u001b[1;36m3\u001b[0m\u001b[1;33m,\u001b[0m\u001b[1;36m3\u001b[0m\u001b[1;33m)\u001b[0m\u001b[1;33m]\u001b[0m\u001b[1;33m,\u001b[0m \u001b[0mCHUNK_SIZE\u001b[0m\u001b[1;33m,\u001b[0m \u001b[1;32mFalse\u001b[0m\u001b[1;33m)\u001b[0m\u001b[1;33m\u001b[0m\u001b[1;33m\u001b[0m\u001b[0m\n\u001b[0;32m      6\u001b[0m \u001b[1;33m\u001b[0m\u001b[0m\n",
      "\u001b[1;31mKeyError\u001b[0m: (3, 2)"
     ]
    }
   ],
   "source": [
    "CHUNK_SIZE = 200\n",
    "do_plot(results[(3,0)], CHUNK_SIZE, False)\n",
    "do_plot(results[(3,1)], CHUNK_SIZE, False)\n",
    "do_plot(results[(3,2)], CHUNK_SIZE, False)\n",
    "do_plot(results[(3,3)], CHUNK_SIZE, False)\n",
    "\n",
    "# CHUNK_SIZE = 200\n",
    "# do_plot(results[(4,0)], CHUNK_SIZE)\n",
    "# do_plot(results[(4,1)], CHUNK_SIZE)\n",
    "# do_plot(results[(4,2)], CHUNK_SIZE)\n",
    "# do_plot(results[(4,3)], CHUNK_SIZE)\n",
    "\n",
    "# CHUNK_SIZE = 200\n",
    "# do_plot(results[(5,0)], CHUNK_SIZE)\n",
    "# do_plot(results[(5,1)], CHUNK_SIZE)\n",
    "# do_plot(results[(5,2)], CHUNK_SIZE)\n",
    "# do_plot(results[(5,3)], CHUNK_SIZE)"
   ]
  },
  {
   "cell_type": "markdown",
   "metadata": {},
   "source": [
    "Now compute the accuracy and loss against the validation set. The loss is computed as we normally do - by taking the value given by the network and comparing it to the value given by the minimax algorithm. The accuracy is a measure of what percentage of the time we make the optimal move. "
   ]
  },
  {
   "cell_type": "code",
   "execution_count": 21,
   "metadata": {},
   "outputs": [
    {
     "name": "stdout",
     "output_type": "stream",
     "text": [
      "0.9159836065573771\n",
      "0.8483606557377049\n",
      "0.8872950819672131\n",
      "0.8545081967213115\n",
      "tensor(0.4902)\n",
      "tensor(0.4523)\n",
      "tensor(0.4813)\n",
      "tensor(0.5390)\n"
     ]
    }
   ],
   "source": [
    "dimNets = nets[3]\n",
    "loss = [0, 0, 0, 0]     # One loss per net\n",
    "accuracy = [0, 0, 0, 0] # One accuracy count per neural net \n",
    "criterion = nn.MSELoss()\n",
    "\n",
    "for netIndex in [0, 1, 2, 3]:\n",
    "    net = dimNets[netIndex]\n",
    "    flatten = True\n",
    "    if netIndex == 2 or netIndex == 3: \n",
    "            flatten = False \n",
    "\n",
    "    correctMoves = 0 \n",
    "    wrongMoves = 0 \n",
    "    \n",
    "    for node in validation_set_one:\n",
    "        if flatten: \n",
    "            res = net(node.board_torch.reshape(-1))\n",
    "        else: \n",
    "            res = net(node.board_torch.reshape(1, 1, 3, 3))\n",
    "            \n",
    "        # For each node, look at all of the possible actions we can take\n",
    "        game.board = boardToList(node.board) \n",
    "        game.currPlayer = node.currPlayer\n",
    "        actions = game.getAllActions()\n",
    "        gameStatus = game.checkGameOver() \n",
    "        \n",
    "        # Evaluate the state of the current board\n",
    "        originalBoard = copy.deepcopy(game.board)\n",
    "        v = minimax(game, vertices[boardToTuple(game.board)])\n",
    "        expected = torch.FloatTensor([v])\n",
    "        loss[netIndex] += criterion(torch.FloatTensor([res[0].item()]), expected)\n",
    "        game.board = originalBoard\n",
    "#         \n",
    "        if game.checkGameOver() != 0: \n",
    "            continue \n",
    "        \n",
    "        # Pick the action according to the greedy policy \n",
    "        maxValue = None\n",
    "        maxIndex = None \n",
    "        \n",
    "        maxValueMinimax = None\n",
    "        maxIndecesMinimax = []\n",
    "        \n",
    "        for i in range(len(actions)):\n",
    "            originalBoard = copy.deepcopy(game.board)\n",
    "            \n",
    "            action = actions[i]\n",
    "            # Take the action\n",
    "            game.makeMove(action)\n",
    "            \n",
    "            # Evaluate how good the board is according to the neural network \n",
    "            if flatten:\n",
    "                value = net(torch.FloatTensor(game.board).reshape(-1))\n",
    "            else: \n",
    "                value = net(torch.FloatTensor(game.board).reshape(1, 1, 3, 3))\n",
    "                \n",
    "            # See if it's better than the best move we've seen so far \n",
    "            value = value[0].item()\n",
    "            if maxIndex is None: \n",
    "                maxIndex = i \n",
    "                maxValue = value\n",
    "            elif game.currPlayer == 1 and value > maxValue: \n",
    "                maxValue = value \n",
    "                maxIndex = i\n",
    "            elif game.currPlayer == 2 and value < maxValue: \n",
    "                maxValue = value \n",
    "                maxIndex = i\n",
    "                \n",
    "            # Evaluate how good the board is according to minimax. \n",
    "            node = vertices[boardToTuple(game.board)]\n",
    "            minimiMaxValue = minimax(game, node) \n",
    "            # We have to chose SOME action.\n",
    "            if maxIndecesMinimax == []: \n",
    "                maxIndecesMinimax = [i] \n",
    "                maxValueMinimax = minimiMaxValue\n",
    "            # If player 1, then we are trying to maximize value\n",
    "            elif game.currPlayer == 1 and minimiMaxValue > maxValueMinimax: \n",
    "                maxValueMinimax = minimiMaxValue\n",
    "                maxIndecesMinimax = [i]\n",
    "            # If player 2, then we are trying to minimize value \n",
    "            elif game.currPlayer == 2 and minimiMaxValue > maxValueMinimax:\n",
    "                maxValueMinimax = minimiMaxValue\n",
    "                maxIndecesMinimax = [i]\n",
    "            elif minimiMaxValue == maxValueMinimax:\n",
    "                maxIndecesMinimax.append(i)\n",
    "            \n",
    "            # Reset the board back to initial state \n",
    "            game.board = originalBoard\n",
    "            \n",
    "        # Compare the greedy policy to the actual optimal policy (according to minimax) \n",
    "        if maxIndex in maxIndecesMinimax: \n",
    "            correctMoves += 1 \n",
    "        else: \n",
    "            wrongMoves += 1\n",
    "    \n",
    "    totalMoves = correctMoves + wrongMoves\n",
    "    accuracy[netIndex] = correctMoves / totalMoves\n",
    "\n",
    "for val in accuracy:\n",
    "    print(val)\n",
    "    \n",
    "for l in loss: \n",
    "    print(l / len(validation_set_one))"
   ]
  },
  {
   "cell_type": "markdown",
   "metadata": {},
   "source": [
    "Finally we pass this network into an agent"
   ]
  },
  {
   "cell_type": "code",
   "execution_count": 41,
   "metadata": {},
   "outputs": [],
   "source": [
    "# Given a neural network, return a value function we can use for an agent. \n",
    "def netValueFunction(neuralNet, flatten): \n",
    "    # This should return an action\n",
    "    def valueFunction(board, game):\n",
    "        print(board)\n",
    "        \n",
    "        actions = game.getAllActions() \n",
    "        \n",
    "        currAction = None \n",
    "        if game.currPlayer == 0:  # If first player, want to maximize the value \n",
    "            currVal = -float('inf')\n",
    "        elif game.currPlayer == 1: # If the second player, want to minimize the value \n",
    "            currVal = float('inf')\n",
    "            \n",
    "        for action in actions: \n",
    "            origBoard = copy.deepcopy(game.board)\n",
    "            origTurn = game.currTurn\n",
    "            \n",
    "            game.makeMove(action) \n",
    "            \n",
    "            if flatten:\n",
    "                value = neuralNet(torch.FloatTensor(game.board).reshape(-1)).item()\n",
    "            else: \n",
    "                value = neuralNet(torch.FloatTensor(game.board).reshape(1, 1, 3, 3)).item()\n",
    "            \n",
    "            if game.currPlayer == 0 and value > currVal: \n",
    "                currVal = value \n",
    "                currAction = action \n",
    "                \n",
    "            elif game.currPlayer == 1 and value < currVal:\n",
    "                currVal = value \n",
    "                currAction = action \n",
    "            \n",
    "            game.board = origBoard\n",
    "            game.currTurn = origTurn\n",
    "            \n",
    "        return currAction \n",
    "    \n",
    "    return valueFunction\n",
    "\n",
    "def minimaxValueFunction(board, game):\n",
    "    print(board)\n",
    "    actions = game.getAllActions() \n",
    "    currAction = None \n",
    "    if game.currPlayer == 0:  # If first player, want to maximize the value \n",
    "        currVal = -float('inf')\n",
    "    elif game.currPlayer == 1: # If the second player, want to minimize the value \n",
    "        currVal = float('inf')\n",
    "\n",
    "    for action in actions: \n",
    "        origBoard = copy.deepcopy(game.board)\n",
    "        origTurn = game.currTurn\n",
    "\n",
    "        game.makeMove(action) \n",
    "        value = minimax(game, vertices[boardToTuple(game.board)])\n",
    "\n",
    "        if game.currPlayer == 0 and value > currVal: \n",
    "            currVal = value \n",
    "            currAction = action \n",
    "\n",
    "        elif game.currPlayer == 1 and value < currVal:\n",
    "            currVal = value \n",
    "            currAction = action \n",
    "\n",
    "        game.board = origBoard\n",
    "        game.currTurn = origTurn\n",
    "\n",
    "    return currAction \n",
    "                \n",
    "\n",
    "# The value agent takes a playerNum and a value function. \n",
    "agentsPlayerOne = []\n",
    "agentsPlayerTwo = []\n",
    "agentsPlayerOne.append(ValueAgent(0, netValueFunction(nets[3][0], True), 2))\n",
    "agentsPlayerOne.append(ValueAgent(0, netValueFunction(nets[3][1], True), 2))\n",
    "agentsPlayerOne.append(ValueAgent(0, netValueFunction(nets[3][2], False), 2))\n",
    "agentsPlayerOne.append(ValueAgent(0, netValueFunction(nets[3][3], False), 2))\n",
    "                       \n",
    "agentsPlayerTwo.append(ValueAgent(1, netValueFunction(nets[3][0], True), 2))\n",
    "agentsPlayerTwo.append(ValueAgent(1, netValueFunction(nets[3][1], True), 2))\n",
    "agentsPlayerTwo.append(ValueAgent(1, netValueFunction(nets[3][2], False), 2))\n",
    "agentsPlayerTwo.append(ValueAgent(1, netValueFunction(nets[3][3], False), 2))\n",
    "\n",
    "minimaxAgentPlayerOne = ValueAgent(0, minimaxValueFunction, 2)\n",
    "minimaxAgentPlayerTwo = ValueAgent(1, minimaxValueFunction, 2)"
   ]
  },
  {
   "cell_type": "markdown",
   "metadata": {},
   "source": [
    "### Comparisons of Greedy Policy to Baseline\n",
    "\n",
    "Here, we compare the greedy policy from the learned value function to an agent that plays random policies and a minimax agent (which plays perfectly)."
   ]
  },
  {
   "cell_type": "code",
   "execution_count": 43,
   "metadata": {},
   "outputs": [
    {
     "name": "stdout",
     "output_type": "stream",
     "text": [
      "Agent <tictactoe.ValueAgent object at 0x0000023E3C7D1608>\n",
      "Game 0\n",
      "Starting game...\n",
      "[[[0, 0, 0], [0, 0, 0], [0, 0, 0]]]\n",
      "move: (0, 1, 1) for player 0\n",
      "move: (0, 0, 0) for player 1\n",
      "[[[2, 0, 0], [0, 1, 0], [0, 0, 0]]]\n",
      "move: (0, 2, 1) for player 0\n",
      "move: (0, 0, 1) for player 1\n",
      "[[[2, 2, 0], [0, 1, 0], [0, 1, 0]]]\n",
      "move: (0, 0, 2) for player 0\n",
      "move: (0, 1, 0) for player 1\n",
      "[[[2, 2, 1], [2, 1, 0], [0, 1, 0]]]\n",
      "move: (0, 2, 0) for player 0\n",
      "move: (0, 1, 2) for player 1\n",
      "[[[2, 2, 1], [2, 1, 2], [1, 1, 0]]]\n",
      "move: (0, 2, 2) for player 0\n",
      "Game Ended!\n",
      "Result: 1\n",
      "2 2 1\n",
      "2 1 2\n",
      "1 1 1\n",
      "\n"
     ]
    }
   ],
   "source": [
    "def playGames(minimax = False):\n",
    "    for agent in agentsPlayerOne[:1]: \n",
    "        print(f\"Agent {agent}\")\n",
    "        if minimax:\n",
    "            game = StandardTicTacToe(agent, minimaxAgentPlayerTwo, Log(2))\n",
    "        else:\n",
    "            game = StandardTicTacToe(agent, DumbAgent(1), Log(2))\n",
    "    \n",
    "        results = []\n",
    "        for i in range(0, 10): \n",
    "            print(f\"Game {i}\")\n",
    "            foo = game.play()\n",
    "            print(f\"Result: {foo}\")\n",
    "            print(game)\n",
    "            return \n",
    "        \n",
    "            if foo == 0: \n",
    "                results.append(-1)\n",
    "            else: \n",
    "                results.append(foo)\n",
    "            game.reset()\n",
    "        print(results)\n",
    "\n",
    "    \n",
    "#     for agent in agentsPlayerTwo: \n",
    "#         game = StandardTicTacToe(DumbAgent(1), agent, Log(2))\n",
    "\n",
    "#         results = []\n",
    "#         for i in range(0, 10): \n",
    "#             foo = game.play()\n",
    "#             if foo == 0: \n",
    "#                 print(\"Tie\")\n",
    "#                 results.append(-1)\n",
    "#             else: \n",
    "#                 results.append(foo)\n",
    "#             game.reset()\n",
    "#         print(results)\n",
    "\n",
    "playGames(False)"
   ]
  },
  {
   "cell_type": "code",
   "execution_count": null,
   "metadata": {},
   "outputs": [],
   "source": []
  },
  {
   "cell_type": "code",
   "execution_count": null,
   "metadata": {},
   "outputs": [],
   "source": []
  }
 ],
 "metadata": {
  "kernelspec": {
   "display_name": "Python 3",
   "language": "python",
   "name": "python3"
  },
  "language_info": {
   "codemirror_mode": {
    "name": "ipython",
    "version": 3
   },
   "file_extension": ".py",
   "mimetype": "text/x-python",
   "name": "python",
   "nbconvert_exporter": "python",
   "pygments_lexer": "ipython3",
   "version": "3.7.4"
  }
 },
 "nbformat": 4,
 "nbformat_minor": 2
}
