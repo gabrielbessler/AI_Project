{
 "cells": [
  {
   "cell_type": "code",
   "execution_count": 1,
   "metadata": {},
   "outputs": [],
   "source": [
    "import torch \n",
    "from tictactoe import *\n",
    "import torch.nn as nn\n",
    "from torch.autograd import Variable"
   ]
  },
  {
   "cell_type": "markdown",
   "metadata": {},
   "source": [
    "# Variants of Tic-Tac-Toe (https://en.wikipedia.org/wiki/Tic-tac-toe_variants)\n",
    "\n",
    "$m,n,k$ game = play on $m$ by $n$ board to try to get $k$ in a row.\n",
    "\n",
    "We have that TicTacToe extends Game, meaning it must have a checkGameOver function. We modify it so that in the initializer it takes in an additional parameter, 'gameOverChecker', a function that takes a board and logger and returns $0$ if nobody won, $1$ if Player one won, or $2$ if Player $2$ won. \n",
    "\n",
    "This allows us to easily implement any variants of the standard 3x3 game that only modify that winning conditions. For example, Misere Tic-tac-toe, or 'inverse' Tic-Tac-Toe, is the game where Player 1 wins if Player 2 gets 3 in a row (we make wrappers for each of the game versions)."
   ]
  },
  {
   "cell_type": "markdown",
   "metadata": {},
   "source": [
    "Now we would like to support variants of the game where instead of alternating turns, there is some different rule for check whose turn it is. For this, we will add another parameter to TicTacToe constructor, turnChooser. This is passed into the Game superclass. Note that $turnChooser$ is a function that takes in the current player and gives the next player. This lets us support $random$ $turn$ $tic$-$tac$-$toe$."
   ]
  },
  {
   "cell_type": "markdown",
   "metadata": {},
   "source": [
    "Now we would like to support larger boards. To do this, we pass in an additional parameter $dimension$. This then creates a board of size $dimension$ by $dimension$. Although this allows us to define boards of arbitrary size, we create $FourByFourTicTacToe$ and $FiveByFiveTicTacToe$. The most logical win condition for an $n$ by $n$ board is $n$ in a row. For this reason we modify the $checkGameOver$ function to take in $n$ - the number of pieces in a row required for a win. Note that other variants are possible - for example, getting a diamond in $4$ by $4$ could also be considered a win. We can then create an $n$ in a row win condition function by using partial functions with $checkGameOver$."
   ]
  },
  {
   "cell_type": "markdown",
   "metadata": {},
   "source": [
    "Next, we would like to support games in 3 dimensions. We do this by adding yet another paremeter to the initialization - $threeDims$. In order to make it easier to handle 2D vs 3D games, we will always assume the board is 3D - n by n by n, but for 2D we can just get the n by n board by calling board[0]."
   ]
  },
  {
   "cell_type": "code",
   "execution_count": null,
   "metadata": {},
   "outputs": [],
   "source": []
  },
  {
   "cell_type": "markdown",
   "metadata": {},
   "source": [
    "### Learning the Value Function with a Neural Network\n",
    "\n",
    "First, we define the neural network"
   ]
  },
  {
   "cell_type": "code",
   "execution_count": 2,
   "metadata": {},
   "outputs": [],
   "source": [
    "class Net(nn.Module):\n",
    "    def __init__(self):\n",
    "        super(Net, self).__init__()\n",
    "        # 9 input features (each of the positions in the board), with a bias\n",
    "        # 1 hidden layer with 9 inputs, 1 output (the value of the state)\n",
    "        self.first = nn.Linear(9, 9, True)\n",
    "        self.hiddenOne = nn.Linear(9, 9, True)\n",
    "        self.hiddenTwo = nn.Linear(9, 1, True)\n",
    "        \n",
    "    def forward(self, x):\n",
    "        return self.hiddenTwo(self.hiddenOne(self.first(x)))\n",
    "\n",
    "net = Net()\n",
    "params = list(net.parameters())"
   ]
  },
  {
   "cell_type": "markdown",
   "metadata": {},
   "source": [
    "Now we generate the game tree so we have data to train. Note that for many games the game tree is too large to store in memory. There are 9 places to place the first piece, then 8 to place the second, etc.., so there are $9! = 362880$ states, many of which are not reachable because someone would win. "
   ]
  },
  {
   "cell_type": "code",
   "execution_count": 3,
   "metadata": {},
   "outputs": [
    {
     "name": "stdout",
     "output_type": "stream",
     "text": [
      "called findAll\n",
      "First empty index:  63869\n",
      "2.046002149581909\n",
      "called findAll\n",
      "First empty index:  140706\n",
      "4.339001893997192\n",
      "called findAll\n",
      "First empty index:  362953\n",
      "7.517000436782837\n",
      "called findAll\n",
      "First empty index:  601869\n",
      "10.517160654067993\n"
     ]
    }
   ],
   "source": [
    "import copy \n",
    "from pprint import pprint\n",
    "from collections import deque\n",
    "from time import time \n",
    "from multiprocessing import Pool \n",
    "\n",
    "class Node:\n",
    "    def __init__(self, board): \n",
    "        self.children = [] \n",
    "        self.board = board\n",
    "        self.currTurn = 0\n",
    "\n",
    "st = time()\n",
    "\n",
    "pool = Pool(4)\n",
    "root = Node([[0,0,0],[0,0,0],[0,0,0]])\n",
    "\n",
    "a = Node([[1,0,0],[0,0,0],[0,0,0]])\n",
    "b = Node([[0,1,0],[0,0,0],[0,0,0]])\n",
    "c = Node([[0,0,1],[0,0,0],[0,0,0]])\n",
    "d = Node([[0,0,0],[1,0,0],[0,0,0]])\n",
    "e = Node([[0,0,0],[0,1,0],[0,0,0]])\n",
    "f = Node([[0,0,0],[0,0,1],[0,0,0]])\n",
    "g = Node([[0,0,0],[0,0,0],[1,0,0]])\n",
    "h = Node([[0,0,0],[0,0,0],[0,1,0]])\n",
    "k = Node([[0,0,0],[0,0,0],[0,0,1]])\n",
    "\n",
    "visited = [0]*1000000\n",
    "visited[0] = root \n",
    "\n",
    "def findAll(startingIndex, starting):\n",
    "    log = Log(2)\n",
    "    print('called findAll')\n",
    "    num_visited = startingIndex\n",
    "    unvisited = deque()\n",
    "    unvisited += starting\n",
    "    while len(unvisited) > 0:\n",
    "        currNode = unvisited.popleft()\n",
    "        num_visited += 1\n",
    "        if num_visited % 5000 == 0: \n",
    "            print(num_visited, end=\"\\r\")\n",
    "        visited[num_visited] = currNode\n",
    "        \n",
    "        # If game is over, do not add the children \n",
    "        res = checkGameOver(currNode.board, log)\n",
    "        if res[0]: \n",
    "            continue\n",
    "            \n",
    "        # Find all of the children \n",
    "        for i in range(3):\n",
    "            for j in range(3):\n",
    "                if currNode.board[i][j] == 0:\n",
    "                    child = Node(copy.deepcopy(currNode.board))\n",
    "                    if currNode.currTurn == 0: \n",
    "                        child.currTurn = 1\n",
    "                        child.board[i][j] = 1\n",
    "                    else: \n",
    "                        child.currTurn = 0 \n",
    "                        child.board[i][j] = 2\n",
    "\n",
    "                    unvisited.append(child)\n",
    "                    currNode.children.append(child)\n",
    "    print(\"First empty index: \", num_visited)\n",
    "    print(time() - st)\n",
    "    \n",
    "allArgs = [(1, [a, b]), (63869, [c, d]), (296040, [e, f]), (505318, [g, h, k])]\n",
    "\n",
    "# launching multiple evaluations asynchronously *may* use more processes\n",
    "# multiple_results = [pool.apply_async(findAll, arguments) for arguments in allArgs]\n",
    "# print(\"executing...\")\n",
    "# print([res.get(timeout=100) for res in multiple_results])\n",
    "L = [findAll(*x) for x in allArgs]"
   ]
  },
  {
   "cell_type": "markdown",
   "metadata": {},
   "source": [
    "Next we can train it"
   ]
  },
  {
   "cell_type": "code",
   "execution_count": 79,
   "metadata": {},
   "outputs": [
    {
     "data": {
      "image/png": "[encoded data removed]",
      "text/plain": [
       "<Figure size 432x288 with 1 Axes>"
      ]
     },
     "metadata": {
      "needs_background": "light"
     },
     "output_type": "display_data"
    }
   ],
   "source": [
    "import random \n",
    "import torch.optim as optim\n",
    "from matplotlib import pyplot as plt\n",
    "\n",
    "trainCount = 1000\n",
    "criterion = nn.MSELoss() # Using mean square error \n",
    "#  create your optimizer\n",
    "optimizer = optim.SGD(net.parameters(), lr=0.01)\n",
    "L = [] \n",
    "\n",
    "for _ in range(trainCount):\n",
    "    optimizer.zero_grad()\n",
    "    # First, pick some state from the game tree: \n",
    "    node = random.choice(visited)\n",
    "    # Now give it to the neural net \n",
    "    if node == 0:  \n",
    "        continue\n",
    "    stateValue = net(torch.FloatTensor(node.board).reshape(-1))\n",
    "    # Now take some random path down to a leaf \n",
    "    while (len(node.children) != 0):\n",
    "        node = random.choice(node.children)\n",
    "    \n",
    "    result = checkGameOver(node.board, Log(2))\n",
    "    if result[0]: \n",
    "        target = torch.FloatTensor([0])\n",
    "    else:\n",
    "        if result[1] == 1: \n",
    "            target = torch.FloatTensor([1])\n",
    "        else: \n",
    "            target = torch.FloatTensor([-1])\n",
    "    \n",
    "    checkGameOver(node.board, Log(2))\n",
    "    loss = criterion(stateValue, target)\n",
    "    loss.backward()\n",
    "    optimizer.step() \n",
    "    # print(loss)\n",
    "    L.append(loss)\n",
    "\n",
    "   \n",
    "plt.plot(L)\n",
    "plt.show()"
   ]
  },
  {
   "cell_type": "markdown",
   "metadata": {},
   "source": [
    "Finally we pass this network into an agent"
   ]
  },
  {
   "cell_type": "code",
   "execution_count": 4,
   "metadata": {},
   "outputs": [],
   "source": [
    "def netValueFunction(board): \n",
    "    tBoard = torch.FloatTensor(board).reshape(-1)\n",
    "    print(tBoard) \n",
    "    for i, v in enumerate(out): \n",
    "        if v == out.max():\n",
    "            return i\n",
    "        \n",
    "    return None\n",
    "            \n",
    "nAgent = ValueAgent(0, netValueFunction)"
   ]
  },
  {
   "cell_type": "markdown",
   "metadata": {},
   "source": [
    "### Comparisons of Greedy Policy to Baseline\n",
    "\n",
    "Here, we compare the greedy policy from the learned value function to an agent that plays random policies and a minimax agent (which plays perfectly)."
   ]
  },
  {
   "cell_type": "code",
   "execution_count": 5,
   "metadata": {},
   "outputs": [
    {
     "name": "stdout",
     "output_type": "stream",
     "text": [
      "tensor([0., 0., 0., 0., 0., 0., 0., 0., 0.])\n",
      "tensor([2., 1., 0., 0., 0., 0., 0., 0., 0.])\n",
      "tensor([2., 1., 1., 0., 0., 0., 0., 0., 0.])\n",
      "tensor([2., 1., 1., 1., 0., 0., 0., 0., 0.])\n",
      "tensor([2., 1., 1., 1., 1., 0., 0., 0., 0.])\n",
      "Tie\n",
      "tensor([0., 0., 0., 0., 0., 0., 0., 0., 0.])\n",
      "tensor([2., 1., 0., 0., 0., 0., 0., 0., 0.])\n",
      "tensor([2., 1., 1., 0., 0., 0., 0., 0., 0.])\n",
      "tensor([2., 1., 1., 1., 0., 0., 0., 0., 0.])\n",
      "tensor([2., 1., 1., 1., 1., 0., 0., 0., 0.])\n",
      "Tie\n",
      "tensor([0., 0., 0., 0., 0., 0., 0., 0., 0.])\n",
      "tensor([2., 1., 0., 0., 0., 0., 0., 0., 0.])\n",
      "tensor([2., 1., 1., 0., 0., 0., 0., 0., 0.])\n",
      "tensor([2., 1., 1., 1., 0., 0., 0., 0., 0.])\n",
      "tensor([2., 1., 1., 1., 1., 0., 0., 0., 0.])\n",
      "Tie\n",
      "tensor([0., 0., 0., 0., 0., 0., 0., 0., 0.])\n",
      "tensor([2., 1., 0., 0., 0., 0., 0., 0., 0.])\n",
      "tensor([2., 1., 1., 0., 0., 0., 0., 0., 0.])\n",
      "tensor([2., 1., 1., 1., 0., 0., 0., 0., 0.])\n",
      "tensor([2., 1., 1., 1., 1., 0., 0., 0., 0.])\n",
      "Tie\n",
      "tensor([0., 0., 0., 0., 0., 0., 0., 0., 0.])\n",
      "tensor([2., 1., 0., 0., 0., 0., 0., 0., 0.])\n",
      "tensor([2., 1., 1., 0., 0., 0., 0., 0., 0.])\n",
      "tensor([2., 1., 1., 1., 0., 0., 0., 0., 0.])\n",
      "tensor([2., 1., 1., 1., 1., 0., 0., 0., 0.])\n",
      "Tie\n",
      "tensor([0., 0., 0., 0., 0., 0., 0., 0., 0.])\n",
      "tensor([2., 1., 0., 0., 0., 0., 0., 0., 0.])\n",
      "tensor([2., 1., 1., 0., 0., 0., 0., 0., 0.])\n",
      "tensor([2., 1., 1., 1., 0., 0., 0., 0., 0.])\n",
      "tensor([2., 1., 1., 1., 1., 0., 0., 0., 0.])\n",
      "Tie\n",
      "tensor([0., 0., 0., 0., 0., 0., 0., 0., 0.])\n",
      "tensor([2., 1., 0., 0., 0., 0., 0., 0., 0.])\n",
      "tensor([2., 1., 1., 0., 0., 0., 0., 0., 0.])\n",
      "tensor([2., 1., 1., 1., 0., 0., 0., 0., 0.])\n",
      "tensor([2., 1., 1., 1., 1., 0., 0., 0., 0.])\n",
      "Tie\n",
      "tensor([0., 0., 0., 0., 0., 0., 0., 0., 0.])\n",
      "tensor([2., 1., 0., 0., 0., 0., 0., 0., 0.])\n",
      "tensor([2., 1., 1., 0., 0., 0., 0., 0., 0.])\n",
      "tensor([2., 1., 1., 1., 0., 0., 0., 0., 0.])\n",
      "tensor([2., 1., 1., 1., 1., 0., 0., 0., 0.])\n",
      "Tie\n",
      "tensor([0., 0., 0., 0., 0., 0., 0., 0., 0.])\n",
      "tensor([2., 1., 0., 0., 0., 0., 0., 0., 0.])\n",
      "tensor([2., 1., 1., 0., 0., 0., 0., 0., 0.])\n",
      "tensor([2., 1., 1., 1., 0., 0., 0., 0., 0.])\n",
      "tensor([2., 1., 1., 1., 1., 0., 0., 0., 0.])\n",
      "Tie\n",
      "tensor([0., 0., 0., 0., 0., 0., 0., 0., 0.])\n",
      "tensor([2., 1., 0., 0., 0., 0., 0., 0., 0.])\n",
      "tensor([2., 1., 1., 0., 0., 0., 0., 0., 0.])\n",
      "tensor([2., 1., 1., 1., 0., 0., 0., 0., 0.])\n",
      "tensor([2., 1., 1., 1., 1., 0., 0., 0., 0.])\n",
      "Tie\n",
      "[-1, -1, -1, -1, -1, -1, -1, -1, -1, -1]\n"
     ]
    }
   ],
   "source": [
    "game = Game(nAgent, DumbAgent(1), Log(2))\n",
    "\n",
    "results = []\n",
    "for i in range(0, 10): \n",
    "    foo = game.play()\n",
    "    if not foo[0]: \n",
    "        print(\"Tie\")\n",
    "        results.append(-1)\n",
    "    else: \n",
    "        results.append(foo[1])\n",
    "    game.reset()\n",
    "print(results)"
   ]
  },
  {
   "cell_type": "code",
   "execution_count": 10,
   "metadata": {},
   "outputs": [
    {
     "name": "stdout",
     "output_type": "stream",
     "text": [
      "3\n"
     ]
    }
   ],
   "source": [
    "from collections import defaultdict \n",
    "\n",
    "def find_repeated(L):\n",
    "    s = defaultdict(int)\n",
    "    r = L[0]\n",
    "    for i in L[1:]:\n",
    "        r = r ^ i\n",
    "\n",
    "    print(r)\n",
    "    \n",
    "find_repeated([1, 1, 2, 2, 3])\n",
    "\n",
    "    "
   ]
  }
 ],
 "metadata": {
  "kernelspec": {
   "display_name": "Python 3",
   "language": "python",
   "name": "python3"
  },
  "language_info": {
   "codemirror_mode": {
    "name": "ipython",
    "version": 3
   },
   "file_extension": ".py",
   "mimetype": "text/x-python",
   "name": "python",
   "nbconvert_exporter": "python",
   "pygments_lexer": "ipython3",
   "version": "3.7.4"
  }
 },
 "nbformat": 4,
 "nbformat_minor": 2
}
