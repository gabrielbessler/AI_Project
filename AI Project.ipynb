{
 "cells": [
  {
   "cell_type": "code",
   "execution_count": 1,
   "metadata": {},
   "outputs": [
    {
     "data": {
      "application/javascript": [
       "IPython.notebook.set_autosave_interval(10000)"
      ]
     },
     "metadata": {},
     "output_type": "display_data"
    },
    {
     "name": "stdout",
     "output_type": "stream",
     "text": [
      "Autosaving every 10 seconds\n"
     ]
    }
   ],
   "source": [
    "%autosave 10\n",
    "%load_ext autoreload\n",
    "%autoreload 2"
   ]
  },
  {
   "cell_type": "code",
   "execution_count": null,
   "metadata": {},
   "outputs": [],
   "source": [
    "import torch \n",
    "from tictactoe import *\n",
    "import torch \n",
    "import torch.nn as nn\n",
    "import torch.nn.functional as F\n",
    "from torch.autograd import Variable\n",
    "\n",
    "import copy \n",
    "from pprint import pprint\n",
    "from collections import deque\n",
    "from time import time \n",
    "from multiprocessing import Pool \n",
    "\n",
    "from tqdm.notebook import tqdm, trange\n",
    "\n",
    "import numpy as np\n",
    "\n",
    "import random \n",
    "import torch.optim as optim\n",
    "from matplotlib import pyplot as plt\n",
    "import multiprocess as mp\n",
    "import csv\n"
   ]
  },
  {
   "cell_type": "markdown",
   "metadata": {},
   "source": [
    "# TODO\n",
    "\n",
    "1. Look into TensorBoard (https://www.dlology.com/blog/how-to-run-tensorboard-in-jupyter-notebook/)\n",
    "2. Look into multiprocessing so we can train the 4 networks at the same time \n",
    "3. Test out data loader\n",
    "4. Save both the network and game trees to csv"
   ]
  },
  {
   "cell_type": "markdown",
   "metadata": {},
   "source": [
    "# Variants of Tic-Tac-Toe (https://en.wikipedia.org/wiki/Tic-tac-toe_variants)\n",
    "\n",
    "$m,n,k$ game = play on $m$ by $n$ board to try to get $k$ in a row.\n",
    "\n",
    "We have that TicTacToe extends Game, meaning it must have a checkGameOver function. We modify it so that in the initializer it takes in an additional parameter, 'gameOverChecker', a function that takes a board and logger and returns $0$ if nobody won, $1$ if Player one won, or $2$ if Player $2$ won. \n",
    "\n",
    "This allows us to easily implement any variants of the standard 3x3 game that only modify that winning conditions. For example, Misere Tic-tac-toe, or 'inverse' Tic-Tac-Toe, is the game where Player 1 wins if Player 2 gets 3 in a row (we make wrappers for each of the game versions)."
   ]
  },
  {
   "cell_type": "markdown",
   "metadata": {},
   "source": [
    "Now we would like to support variants of the game where instead of alternating turns, there is some different rule for check whose turn it is. For this, we will add another parameter to TicTacToe constructor, turnChooser. This is passed into the Game superclass. Note that $turnChooser$ is a function that takes in the current player and gives the next player. This lets us support $random$ $turn$ $tic$-$tac$-$toe$."
   ]
  },
  {
   "cell_type": "markdown",
   "metadata": {},
   "source": [
    "Now we would like to support larger boards. To do this, we pass in an additional parameter $dimension$. This then creates a board of size $dimension$ by $dimension$. Although this allows us to define boards of arbitrary size, we create $FourByFourTicTacToe$ and $FiveByFiveTicTacToe$. The most logical win condition for an $n$ by $n$ board is $n$ in a row. For this reason we modify the $checkGameOver$ function to take in $n$ - the number of pieces in a row required for a win. Note that other variants are possible - for example, getting a diamond in $4$ by $4$ could also be considered a win. We can then create an $n$ in a row win condition function by using partial functions with $checkGameOver$."
   ]
  },
  {
   "cell_type": "markdown",
   "metadata": {},
   "source": [
    "Next, we would like to support games in 3 dimensions. We do this by adding yet another paremeter to the initialization - $threeDims$. In order to make it easier to handle 2D vs 3D games, we will always assume the board is 3D - n by n by n, but for 2D we can just get the n by n board by calling board[0]."
   ]
  },
  {
   "cell_type": "markdown",
   "metadata": {},
   "source": [
    "We would like easily define combinations of these variants to create custom games. In order to do this, we define a TicTacToeConfig class. Now, TicTacToe simply takes a TicTacToeConfig. This config has all of the default values so we can set any combinations of the ones we want. \n"
   ]
  },
  {
   "cell_type": "markdown",
   "metadata": {},
   "source": [
    "## Visualizing the Board\n",
    "\n",
    "Looking at the board in the command line is annoying, and we would like some way of seeing what the algorithm is actually doing in a way that is easier to interpret. We will use PyGame to do this. First, we create a `display` method in TicTacToe.\n",
    "\n",
    "The correct way to do this would be to have some event that is triggered when we make a move to update the display. Due to lazyness, we will just spawn a different thread. This then renders the grid 60 times per second and colors it according to the current board state. \n",
    "\n",
    "http://programarcadegames.com/index.php?lang=en&chapter=array_backed_grids\n",
    "https://www.pygame.org/docs/tut/ChimpLineByLine.html"
   ]
  },
  {
   "cell_type": "markdown",
   "metadata": {},
   "source": [
    "### Learning the Value Function with a Neural Network\n",
    "\n",
    "First, we define the neural network. We use tanh to bound the result between -1 and 1 (since this is the bound of our value function). We use standard activation functions, testing first ReLu and then Leaky ReLu."
   ]
  },
  {
   "cell_type": "code",
   "execution_count": 3,
   "metadata": {},
   "outputs": [],
   "source": [
    "# Regular Feed forward network with only dense layers \n",
    "class DenseNetRELU(nn.Module):\n",
    "    def __init__(self, dimension):\n",
    "        super(DenseNetRELU, self).__init__()\n",
    "        # 9 input features (each of the positions in the board), with a bias\n",
    "        # 1 hidden layer with 9 inputs, 1 output (the value of the state)\n",
    "        numStates = dimension * dimension\n",
    "        self.first = nn.Linear(numStates, numStates, True)\n",
    "        self.hiddenOne = nn.Linear(numStates, numStates, True)\n",
    "        self.hiddenTwo = nn.Linear(numStates, 1, True)\n",
    "        \n",
    "    def forward(self, x):\n",
    "        x = F.relu(self.first(x)) \n",
    "        x = F.relu(self.hiddenOne(x)) \n",
    "        x = torch.tanh(self.hiddenTwo(x)) \n",
    "        return x\n",
    "    \n",
    "def weights_init_uniform(m):\n",
    "    classname = m.__class__.__name__\n",
    "    if classname.find('Linear') != -1:\n",
    "        m.weight.data.uniform_(0.0, 1.0)\n",
    "        m.bias.data.fill_(0)\n",
    "    \n",
    "class DenseNetLeakyRELU(nn.Module):\n",
    "    def __init__(self, dimension):\n",
    "        super(DenseNetLeakyRELU, self).__init__()\n",
    "        \n",
    "        numStates = dimension * dimension\n",
    "        self.first = nn.Linear(numStates, numStates, True)\n",
    "        self.hiddenOne = nn.Linear(numStates, numStates, True)\n",
    "        self.hiddenTwo = nn.Linear(numStates, 1, True)\n",
    "        \n",
    "    def forward(self, x):\n",
    "        x = F.leaky_relu(self.first(x)) \n",
    "        x = F.leaky_relu(self.hiddenOne(x)) \n",
    "        x = torch.tanh(self.hiddenTwo(x)) \n",
    "        return x\n",
    "    \n",
    "# Convolutional neural network (for 2D)\n",
    "class ConvNet(nn.Module):\n",
    "    def __init__(self, dimension): \n",
    "        super(ConvNet, self).__init__()\n",
    "        \n",
    "        \n",
    "        # input is a single channel, we perform 5 convolutions on each entry \n",
    "        # with kernel size of 2 \n",
    "        if dimension == 3:\n",
    "            # 1 in_channel, \n",
    "            # 5 out_channels\n",
    "            self.first = nn.Conv2d(1, 5, kernel_size=2, padding=0) # This gives us 5 2x2 squares\n",
    "            self.flattenLayer = nn.Flatten()\n",
    "            self.hidden = nn.Linear(20, 1, True)\n",
    "        else: \n",
    "            # TODO \n",
    "            self.first = nn.Conv2d(1, 5, 3, padding=1)\n",
    "\n",
    "    def forward(self, x):\n",
    "        x = F.relu(self.first(x))\n",
    "        x = self.flattenLayer(x)\n",
    "        x = torch.tanh(self.hidden(x)) # Make sure output is between -1 and 1 \n",
    "        return x \n",
    "    \n",
    "class ConvNetLeaky(nn.Module):\n",
    "    def __init__(self, dimension):\n",
    "        super(ConvNetLeaky, self).__init__()\n",
    "        \n",
    "        if dimension == 3:\n",
    "            self.first = nn.Conv2d(1, 5, 2, padding=0) # This gives us a 2x2\n",
    "            self.flattenLayer = nn.Flatten()\n",
    "            self.hidden = nn.Linear(20, 1, True)\n",
    "        else:\n",
    "            # TODO\n",
    "            self.first = nn.Conv2d(1, 5, 3, padding=1)\n",
    "        \n",
    "    def forward(self, x):\n",
    "        x = F.leaky_relu(self.first(x))\n",
    "        x = self.flattenLayer(x)\n",
    "        x = torch.tanh(self.hidden(x)) # Make sure output is between -1 and 1\n",
    "        return x \n",
    "        \n",
    "\n",
    "nets = dict()\n",
    "\n",
    "for dim in range(3, 11): \n",
    "    netOne   = DenseNetRELU(dim)\n",
    "    netTwo   = DenseNetLeakyRELU(dim)\n",
    "    netThree = ConvNet(dim)\n",
    "    netFour  = ConvNetLeaky(dim)\n",
    "    \n",
    "    nets[dim] = [netOne, netTwo, netThree, netFour]"
   ]
  },
  {
   "cell_type": "markdown",
   "metadata": {},
   "source": [
    "We first define our game tree by defining a node class."
   ]
  },
  {
   "cell_type": "code",
   "execution_count": 4,
   "metadata": {},
   "outputs": [],
   "source": [
    "class Node:\n",
    "    ''' \n",
    "    Node is a single board state in our game tree.\n",
    "    '''\n",
    "    def __init__(self, board): \n",
    "        self.children = []\n",
    "        self.parent = None\n",
    "        self.board = board \n",
    "        self.currPlayer = 0"
   ]
  },
  {
   "cell_type": "markdown",
   "metadata": {},
   "source": [
    "We then make a generic function which will take some starting node and a game constructor (which must create an object that extends the Game abstractclass) and fills out the game tree. It does this more efficiently by using a thread pool. Note that this also returns a list of all the nodes in the tree, which allows us to choose a random node much more easily."
   ]
  },
  {
   "cell_type": "code",
   "execution_count": 6,
   "metadata": {},
   "outputs": [],
   "source": [
    "def boardToTuple(board):\n",
    "    return tuple([tuple([tuple(j) for j in l]) for l in board])\n",
    "\n",
    "def boardToList(board):\n",
    "    return [list([list(j) for j in l]) for l in board]"
   ]
  },
  {
   "cell_type": "code",
   "execution_count": 7,
   "metadata": {},
   "outputs": [],
   "source": [
    "def findAllGraphSearch(game, startingNode, num_nodes): \n",
    "    '''\n",
    "    findAllGraphSearch performs BFS from the startingNode but will not expand the same node twice. \n",
    "    '''\n",
    "    count = 0 \n",
    "    with tqdm(total = num_nodes) as pbar: \n",
    "        visited = dict()\n",
    "        \n",
    "        # Initialize a queue with the starting node. \n",
    "        unvisited = deque()\n",
    "        unvisited.append(startingNode) \n",
    "        visited[startingNode.board] = startingNode\n",
    "        \n",
    "        # Continue until there are no more unvisited nodes. \n",
    "        while len(unvisited) > 0:\n",
    "            count += 1\n",
    "            pbar.update() \n",
    "            \n",
    "            currNode = unvisited.popleft()\n",
    "            \n",
    "            # Check if the current game is over. If it is, skip this node\n",
    "            # This does not check if the game ends in a draw.\n",
    "            game.board = currNode.board\n",
    "            res = game.checkGameOver()\n",
    "            if res != 0: \n",
    "                continue\n",
    "                \n",
    "            # Find all of the children of the current node we are looking at\n",
    "            currNode.children = currNode.children\n",
    "            for action in game.getAllActions():\n",
    "                \n",
    "                # Create the child node\n",
    "                child = Node(copy.deepcopy(currNode.board))\n",
    "                child.currPlayer = game.turnChooser(currNode.currPlayer)\n",
    "                pieceToPlay = 1 if currNode.currPlayer == 0 else 2\n",
    "                child.board = boardToList(child.board)\n",
    "                child.board[action[0]][action[1]][action[2]] = pieceToPlay\n",
    "                child.parent = currNode\n",
    "                \n",
    "                # Convert to hashable\n",
    "                child.board = boardToTuple(child.board)\n",
    "                \n",
    "                # Check if we have already queued the same node to be visited\n",
    "                if child.board not in visited: \n",
    "                    visited[child.board] = child # Save the fact that we will look at this node later.  \n",
    "                    unvisited.append(child)          # Look at this child node in some later iteration\n",
    "                    currNode.children.append(child)  # Add this child node as a child of the current node\n",
    "                else:\n",
    "                    currNode.children.append(visited[child.board])\n",
    "        \n",
    "        pbar.update(num_nodes - count)\n",
    "        return visited"
   ]
  },
  {
   "cell_type": "code",
   "execution_count": 8,
   "metadata": {},
   "outputs": [],
   "source": [
    "def findAll(game, startingNode, num_nodes):\n",
    "    '''\n",
    "    findAll performs BFS from the startingNode. \n",
    "    '''\n",
    "    count = 0 \n",
    "    with tqdm(total = num_nodes) as pbar: \n",
    "        visited = [0] * num_nodes\n",
    "        index = 0 \n",
    "\n",
    "        # Initialize a queue with the starting node. \n",
    "        unvisited = deque()\n",
    "        unvisited.append(startingNode)\n",
    "\n",
    "        # Continue until there are no more unvisited nodes.\n",
    "        while len(unvisited) > 0:\n",
    "            count += 1\n",
    "            pbar.update()\n",
    "            # Store the new visited nodes          \n",
    "            currNode = unvisited.popleft()\n",
    "            visited[index] = currNode\n",
    "            index += 1\n",
    "\n",
    "            # If game is over, do not add the children\n",
    "            game.board = currNode.board\n",
    "            res = game.checkGameOver()\n",
    "            if res != 0: \n",
    "                continue\n",
    "\n",
    "            # Find all of the children \n",
    "            for action in game.getAllActions():\n",
    "                child = Node(copy.deepcopy(currNode.board))\n",
    "                child.currPlayer = game.turnChooser(currNode.currPlayer)\n",
    "                pieceToPlay = 1 if currNode.currPlayer == 0 else 2\n",
    "                child.board[action[0]][action[1]][action[2]] = pieceToPlay\n",
    "                child.parent = currNode\n",
    "\n",
    "                unvisited.append(child)\n",
    "                currNode.children.append(child)\n",
    "        \n",
    "        pbar.update(num_nodes - count) \n",
    "        return visited"
   ]
  },
  {
   "cell_type": "markdown",
   "metadata": {},
   "source": [
    "Now we generate the game tree for all game variants so we have data to train the neural network. Note that for many games the game tree is small enough to store in memory. There are 9 places to place the first piece, then 8 to place the second, etc.., so there are $9! = 362880$ states, many of which are not reachable because someone would win. "
   ]
  },
  {
   "cell_type": "markdown",
   "metadata": {},
   "source": [
    "## Clean up the data (if we allocated too much space)"
   ]
  },
  {
   "cell_type": "code",
   "execution_count": 9,
   "metadata": {},
   "outputs": [],
   "source": [
    "def cleanUpData(vertices):\n",
    "    with tqdm(total = len(vertices), desc=\"Removing Unused Allocated Space\") as pbar: \n",
    "        for v in range(len(vertices)):\n",
    "            pbar.update() \n",
    "            if vertices[v] == 0:\n",
    "                pbar.update(len(vertices) - v - 1) \n",
    "                vertices = vertices[0:v]\n",
    "                break \n",
    "\n",
    "    for v in tqdm(vertices, desc=\"Converting to Tensors\"): \n",
    "        v.board_torch = torch.FloatTensor(v.board) \n",
    "        \n",
    "    return vertices"
   ]
  },
  {
   "cell_type": "markdown",
   "metadata": {},
   "source": [
    "## Split into Training Set, Validation Set, and Test Set "
   ]
  },
  {
   "cell_type": "code",
   "execution_count": 10,
   "metadata": {},
   "outputs": [],
   "source": [
    "def splitData(vertices): \n",
    "    random.shuffle(vertices)\n",
    "\n",
    "    size = len(vertices)\n",
    "    training_set_size = int(size*0.8)\n",
    "    training_set = vertices[0:training_set_size]\n",
    "\n",
    "    test_set_end_index = int(0.9 * size)\n",
    "    test_set = vertices[training_set_size:test_set_end_index]\n",
    "\n",
    "    validation_set = vertices[test_set_end_index:]\n",
    "\n",
    "    assert (len(validation_set) + len(test_set) + len(training_set) == len(vertices))\n",
    "    \n",
    "    return test_set, training_set, validation_set"
   ]
  },
  {
   "cell_type": "code",
   "execution_count": 11,
   "metadata": {},
   "outputs": [],
   "source": [
    "def splitDataFromGraph(vertices): \n",
    "    keys = list(vertices.keys())\n",
    "    \n",
    "    random.shuffle(keys)\n",
    "\n",
    "    size = len(keys)\n",
    "    training_set_size = int(size*0.8)\n",
    "    training_set = keys[0:training_set_size]\n",
    "\n",
    "    test_set_end_index = int(0.9 * size)\n",
    "    test_set = keys[training_set_size:test_set_end_index]\n",
    "\n",
    "    validation_set = keys[test_set_end_index:]\n",
    "\n",
    "    return test_set, training_set, validation_set"
   ]
  },
  {
   "cell_type": "markdown",
   "metadata": {},
   "source": [
    "First we implement minimax so that we can evaluate a state. We define player 2 winning as -1, and player 1 winning as 1. If currPlayer is 0, it's player 1 to move."
   ]
  },
  {
   "cell_type": "code",
   "execution_count": 20,
   "metadata": {},
   "outputs": [],
   "source": [
    "memo = dict()\n",
    "def minimax(game, node): \n",
    "    if node in memo: \n",
    "        return memo[node] \n",
    "    \n",
    "    game.board = node.board \n",
    "    res = game.getAllActions()\n",
    "    res2 = game.checkGameOver()\n",
    "    if res2 == 1:\n",
    "        memo[node] = 1\n",
    "        return 1 \n",
    "    elif res2 == 2: \n",
    "        memo[node] = -1 \n",
    "        return -1\n",
    "    elif len(res) == 0: \n",
    "        memo[node] = 0 \n",
    "        return 0\n",
    "        \n",
    "    children = node.children\n",
    "    if node.currPlayer == 0: \n",
    "        val = -float('inf')\n",
    "    else: \n",
    "        val = float('inf')\n",
    "        \n",
    "    for child in children: \n",
    "        child_val = minimax(game, child)\n",
    "        if node.currPlayer == 0: \n",
    "            val = max(val, child_val)\n",
    "        else: \n",
    "            val = min(val, child_val)\n",
    "\n",
    "    memo[node] = val\n",
    "    return val"
   ]
  },
  {
   "cell_type": "markdown",
   "metadata": {},
   "source": [
    "Next we can train it"
   ]
  },
  {
   "cell_type": "markdown",
   "metadata": {},
   "source": [
    "## = Training on the GPU = (https://medium.com/dsnet/training-deep-neural-networks-on-a-gpu-with-pytorch-11079d89805)"
   ]
  },
  {
   "cell_type": "code",
   "execution_count": 21,
   "metadata": {},
   "outputs": [
    {
     "name": "stdout",
     "output_type": "stream",
     "text": [
      "cpu\n"
     ]
    }
   ],
   "source": [
    "def get_default_device():\n",
    "    if torch.cuda.is_available():\n",
    "        return torch.device('cuda')\n",
    "    else:\n",
    "        return torch.device('cpu')\n",
    "    \n",
    "device = get_default_device()\n",
    "device = torch.device('cpu')\n",
    "\n",
    "print(device)"
   ]
  },
  {
   "cell_type": "code",
   "execution_count": 22,
   "metadata": {},
   "outputs": [],
   "source": [
    "def to_device(data, device):\n",
    "    if isinstance(data, (list, tuple)):\n",
    "        return [to_device(x, device) for x in data]\n",
    "    return data.to(device, non_blocking=True)\n",
    "\n",
    "class DeviceDataLoader(): \n",
    "    def __init__(self, dl, device):\n",
    "        self.dl = dl\n",
    "        self.device = device\n",
    "        \n",
    "    def __iter__(self):\n",
    "        for b in self.dl:\n",
    "            yield to_device(b, self.device)\n",
    "        \n",
    "    def __len__(self):\n",
    "        return len(self.dl)"
   ]
  },
  {
   "cell_type": "markdown",
   "metadata": {},
   "source": [
    "# Training Step"
   ]
  },
  {
   "cell_type": "code",
   "execution_count": 23,
   "metadata": {},
   "outputs": [],
   "source": [
    "def getExpectedResults(data, game, batchSize, flatten): \n",
    "    expected = [0] * batchSize\n",
    "    nodes = random.sample(data, batchSize) \n",
    "    for i in range(batchSize): \n",
    "        if nodes[i] not in memo: \n",
    "            minimax(game, nodes[i])\n",
    "        expected[i] = torch.FloatTensor([memo[nodes[i]]])\n",
    "        \n",
    "        # Put the board in a format the neural net can use \n",
    "        if flatten:\n",
    "            nodes[i] = nodes[i].board_torch.reshape(-1)\n",
    "        else:\n",
    "            nodes[i] = nodes[i].board_torch.reshape(1, 3, 3)\n",
    "            \n",
    "    return nodes, expected \n",
    "        \n",
    "def train(data, game, net, trainCount, batchCount, num_epochs, start_lr, lrStepFactor, flatten=True):\n",
    "    # Move to GPU if necessary \n",
    "    net.to(device)\n",
    "    \n",
    "    lr_step = (start_lr / num_epochs) / lrStepFactor\n",
    "    \n",
    "    epoch = 0 \n",
    "    learning_rates = np.arange(start_lr, start_lr - num_epochs * lr_step, -lr_step)\n",
    "    losses = []\n",
    "    criterion = nn.MSELoss() # Using mean square error \n",
    "    batchSize = trainCount // batchCount\n",
    "    \n",
    "    for lr_var in tqdm(learning_rates, desc=f\"Neural Net Training\"):\n",
    "        epoch += 1\n",
    "        optimizer = optim.SGD(net.parameters(), lr=lr_var) #  create the optimizer  \n",
    "        L = [0] * batchCount \n",
    "        \n",
    "        allNodes = []\n",
    "        allExpected = []\n",
    "        for batch in trange(batchCount, desc=f\"Moving data for epoch {epoch}\"):\n",
    "            nodes, expected = getExpectedResults(data, game, batchSize, flatten)\n",
    "            allNodes.append(torch.stack(nodes).to(device))\n",
    "            allExpected.append(expected)\n",
    "        \n",
    "        for batch in trange(batchCount, desc=f\"Epoch {epoch}\"):   \n",
    "            # Get training data for one batch \n",
    "            outputs  = [0] * batchSize\n",
    "            nodes, expected = allNodes[batch], allExpected[batch] \n",
    "            \n",
    "            # Move training data to GPU if necessary \n",
    "            outputs = net(nodes) \n",
    "\n",
    "            # Update the neural network\n",
    "            optimizer.zero_grad()\n",
    "            expected = torch.stack(expected)\n",
    "            expected = expected.to(device)\n",
    "            loss = criterion(outputs, expected) \n",
    "            loss.backward()\n",
    "            optimizer.step()\n",
    "            L[batch] = loss.item()\n",
    "                \n",
    "        losses.append(L)\n",
    "        \n",
    "    return losses"
   ]
  },
  {
   "cell_type": "markdown",
   "metadata": {},
   "source": [
    "## Experiments (Results)\n",
    "\n",
    "First, we begin with the simplests case - 3x3. We determined empirically that training the first neural network with the parameters listed below would be sufficient to reach minimal loss. Then, we use these parameters to train the 4 different network topologies. After testing it seems that ```findAll``` is _slightly_ faster than ```findAllGraphSearch```, however, there are 2 benefits to using ```findAllGraphSearch```. \n",
    "\n",
    "1. It outputs a hashmap mapping board states to nodes. Although this does not currently give us a speed increase, we expect that this would enable speed increases in the training loop (e.g. by allowing us to use data loaders). \n",
    "\n",
    "\n",
    "2. It looks at significantly fewer nodes, which makes it faster overall. Further, since there is less duplicate data, it uses less memory to store all of the nodes. While the ```findAll``` looks at 986410 nodes, ```findAllGraphSearch``` looks at:"
   ]
  },
  {
   "cell_type": "code",
   "execution_count": 28,
   "metadata": {},
   "outputs": [],
   "source": [
    "memo = dict()\n",
    "def getGameTree(game, dim): \n",
    "    root = Node([[[0] * dim for _ in range(dim)]])\n",
    "    root.board = boardToTuple(root.board)\n",
    "    if dim == 3: \n",
    "        NUM_NODES = 1000000\n",
    "    else: \n",
    "        NUM_NODES = 1000000\n",
    "    \n",
    "    vertices = findAllGraphSearch(game, root, NUM_NODES) \n",
    "#     vertices = findAll(game, root, NUM_NODES)\n",
    "#     vertices = cleanUpData(vertices)\n",
    "#     test_set, training_set, validation_set = splitData(vertices)\n",
    "    test_set, training_set, validation_set = splitDataFromGraph(vertices)\n",
    "    return test_set, training_set, validation_set, vertices"
   ]
  },
  {
   "cell_type": "code",
   "execution_count": 29,
   "metadata": {},
   "outputs": [
    {
     "data": {
      "application/vnd.jupyter.widget-view+json": {
       "model_id": "cd5a6f77c57940ff9691e34acc60889c",
       "version_major": 2,
       "version_minor": 0
      },
      "text/plain": [
       "HBox(children=(IntProgress(value=0, max=1000000), HTML(value='')))"
      ]
     },
     "metadata": {},
     "output_type": "display_data"
    },
    {
     "name": "stdout",
     "output_type": "stream",
     "text": [
      "\n"
     ]
    },
    {
     "data": {
      "application/vnd.jupyter.widget-view+json": {
       "model_id": "0589db93f6e14b4cbafd13f9c1605f23",
       "version_major": 2,
       "version_minor": 0
      },
      "text/plain": [
       "HBox(children=(IntProgress(value=0, description='Converting to Tensors', max=4836, style=ProgressStyle(descrip…"
      ]
     },
     "metadata": {},
     "output_type": "display_data"
    },
    {
     "name": "stdout",
     "output_type": "stream",
     "text": [
      "\n"
     ]
    }
   ],
   "source": [
    "gameOverCheck = partial(checkGameOver, n=dim)\n",
    "config = TicTacToeConfig(turnChooser=defaultTurnChooser, gameOverChecker=gameOverCheck, dimension=dim, threeDims=False)\n",
    "game = TicTacToe(None, None, None, config)\n",
    "    \n",
    "test_set_one, training_set_one, validation_set_one, vertices = getGameTree(game, 3)\n",
    "\n",
    "# For now, don't take advantage of the hashtable (this is only needed for graph search)\n",
    "training_set_one = [vertices[i] for i in training_set_one]\n",
    "for v in tqdm(training_set_one, desc=\"Converting to Tensors\"): \n",
    "    v.board_torch = torch.FloatTensor(v.board) "
   ]
  },
  {
   "cell_type": "code",
   "execution_count": 30,
   "metadata": {},
   "outputs": [
    {
     "name": "stdout",
     "output_type": "stream",
     "text": [
      "4836 605 605 6046\n"
     ]
    }
   ],
   "source": [
    "print(len(training_set_one), \n",
    "      len(validation_set_one),\n",
    "      len(test_set_one),\n",
    "      len(training_set_one) + len(validation_set_one) + len(test_set_one))"
   ]
  },
  {
   "cell_type": "code",
   "execution_count": 32,
   "metadata": {
    "scrolled": false
   },
   "outputs": [
    {
     "data": {
      "application/vnd.jupyter.widget-view+json": {
       "model_id": "568e60de7ee541afab7e36ec21fb46b8",
       "version_major": 2,
       "version_minor": 0
      },
      "text/plain": [
       "HBox(children=(IntProgress(value=0, description='Neural Net Training', max=5, style=ProgressStyle(description_…"
      ]
     },
     "metadata": {},
     "output_type": "display_data"
    },
    {
     "data": {
      "application/vnd.jupyter.widget-view+json": {
       "model_id": "c472431814f546d5b6e51ced3d02923f",
       "version_major": 2,
       "version_minor": 0
      },
      "text/plain": [
       "HBox(children=(IntProgress(value=0, description='Moving data for epoch 1', max=151, style=ProgressStyle(descri…"
      ]
     },
     "metadata": {},
     "output_type": "display_data"
    },
    {
     "name": "stdout",
     "output_type": "stream",
     "text": [
      "\n"
     ]
    },
    {
     "data": {
      "application/vnd.jupyter.widget-view+json": {
       "model_id": "3a689140db144ff19ca0c91f5f767660",
       "version_major": 2,
       "version_minor": 0
      },
      "text/plain": [
       "HBox(children=(IntProgress(value=0, description='Epoch 1', max=151, style=ProgressStyle(description_width='ini…"
      ]
     },
     "metadata": {},
     "output_type": "display_data"
    },
    {
     "name": "stdout",
     "output_type": "stream",
     "text": [
      "\n"
     ]
    },
    {
     "data": {
      "application/vnd.jupyter.widget-view+json": {
       "model_id": "d8e7e94680e44bb9b304d30f75faf83c",
       "version_major": 2,
       "version_minor": 0
      },
      "text/plain": [
       "HBox(children=(IntProgress(value=0, description='Moving data for epoch 2', max=151, style=ProgressStyle(descri…"
      ]
     },
     "metadata": {},
     "output_type": "display_data"
    },
    {
     "name": "stdout",
     "output_type": "stream",
     "text": [
      "\n"
     ]
    },
    {
     "data": {
      "application/vnd.jupyter.widget-view+json": {
       "model_id": "e2ad5c72f2604e2aa761fdb3edc13b18",
       "version_major": 2,
       "version_minor": 0
      },
      "text/plain": [
       "HBox(children=(IntProgress(value=0, description='Epoch 2', max=151, style=ProgressStyle(description_width='ini…"
      ]
     },
     "metadata": {},
     "output_type": "display_data"
    },
    {
     "name": "stdout",
     "output_type": "stream",
     "text": [
      "\n"
     ]
    },
    {
     "data": {
      "application/vnd.jupyter.widget-view+json": {
       "model_id": "926aeabfdb75452fbb60308c62dd5fb2",
       "version_major": 2,
       "version_minor": 0
      },
      "text/plain": [
       "HBox(children=(IntProgress(value=0, description='Moving data for epoch 3', max=151, style=ProgressStyle(descri…"
      ]
     },
     "metadata": {},
     "output_type": "display_data"
    },
    {
     "name": "stdout",
     "output_type": "stream",
     "text": [
      "\n"
     ]
    },
    {
     "data": {
      "application/vnd.jupyter.widget-view+json": {
       "model_id": "dcd512494e644904b8b34b10acb513d4",
       "version_major": 2,
       "version_minor": 0
      },
      "text/plain": [
       "HBox(children=(IntProgress(value=0, description='Epoch 3', max=151, style=ProgressStyle(description_width='ini…"
      ]
     },
     "metadata": {},
     "output_type": "display_data"
    },
    {
     "name": "stdout",
     "output_type": "stream",
     "text": [
      "\n"
     ]
    },
    {
     "data": {
      "application/vnd.jupyter.widget-view+json": {
       "model_id": "b5c5f2a530c14c51925cd046ddea9798",
       "version_major": 2,
       "version_minor": 0
      },
      "text/plain": [
       "HBox(children=(IntProgress(value=0, description='Moving data for epoch 4', max=151, style=ProgressStyle(descri…"
      ]
     },
     "metadata": {},
     "output_type": "display_data"
    },
    {
     "name": "stdout",
     "output_type": "stream",
     "text": [
      "\n"
     ]
    },
    {
     "data": {
      "application/vnd.jupyter.widget-view+json": {
       "model_id": "28469999785446b5904d271b8e49b370",
       "version_major": 2,
       "version_minor": 0
      },
      "text/plain": [
       "HBox(children=(IntProgress(value=0, description='Epoch 4', max=151, style=ProgressStyle(description_width='ini…"
      ]
     },
     "metadata": {},
     "output_type": "display_data"
    },
    {
     "name": "stdout",
     "output_type": "stream",
     "text": [
      "\n"
     ]
    },
    {
     "data": {
      "application/vnd.jupyter.widget-view+json": {
       "model_id": "df242f66bf6a47749f5e72d0e0e48999",
       "version_major": 2,
       "version_minor": 0
      },
      "text/plain": [
       "HBox(children=(IntProgress(value=0, description='Moving data for epoch 5', max=151, style=ProgressStyle(descri…"
      ]
     },
     "metadata": {},
     "output_type": "display_data"
    },
    {
     "name": "stdout",
     "output_type": "stream",
     "text": [
      "\n"
     ]
    },
    {
     "data": {
      "application/vnd.jupyter.widget-view+json": {
       "model_id": "4df7150053a74aa0bdd6aa391c6ea795",
       "version_major": 2,
       "version_minor": 0
      },
      "text/plain": [
       "HBox(children=(IntProgress(value=0, description='Epoch 5', max=151, style=ProgressStyle(description_width='ini…"
      ]
     },
     "metadata": {},
     "output_type": "display_data"
    },
    {
     "name": "stdout",
     "output_type": "stream",
     "text": [
      "\n",
      "\n"
     ]
    },
    {
     "data": {
      "application/vnd.jupyter.widget-view+json": {
       "model_id": "439ac75bead54915b1f4a42f4e5fc905",
       "version_major": 2,
       "version_minor": 0
      },
      "text/plain": [
       "HBox(children=(IntProgress(value=0, description='Neural Net Training', max=5, style=ProgressStyle(description_…"
      ]
     },
     "metadata": {},
     "output_type": "display_data"
    },
    {
     "data": {
      "application/vnd.jupyter.widget-view+json": {
       "model_id": "1ef20d9324b445e3815263bb4b2f65c3",
       "version_major": 2,
       "version_minor": 0
      },
      "text/plain": [
       "HBox(children=(IntProgress(value=0, description='Moving data for epoch 1', max=151, style=ProgressStyle(descri…"
      ]
     },
     "metadata": {},
     "output_type": "display_data"
    },
    {
     "name": "stdout",
     "output_type": "stream",
     "text": [
      "\n"
     ]
    },
    {
     "data": {
      "application/vnd.jupyter.widget-view+json": {
       "model_id": "500ac7f9948b41f1bc67a6ecd2c6d28a",
       "version_major": 2,
       "version_minor": 0
      },
      "text/plain": [
       "HBox(children=(IntProgress(value=0, description='Epoch 1', max=151, style=ProgressStyle(description_width='ini…"
      ]
     },
     "metadata": {},
     "output_type": "display_data"
    },
    {
     "name": "stdout",
     "output_type": "stream",
     "text": [
      "\n"
     ]
    },
    {
     "data": {
      "application/vnd.jupyter.widget-view+json": {
       "model_id": "7d91366681244e979d93f1f3be903d5c",
       "version_major": 2,
       "version_minor": 0
      },
      "text/plain": [
       "HBox(children=(IntProgress(value=0, description='Moving data for epoch 2', max=151, style=ProgressStyle(descri…"
      ]
     },
     "metadata": {},
     "output_type": "display_data"
    },
    {
     "name": "stdout",
     "output_type": "stream",
     "text": [
      "\n"
     ]
    },
    {
     "data": {
      "application/vnd.jupyter.widget-view+json": {
       "model_id": "7003783de8994db9b26d9476cf3fc5a8",
       "version_major": 2,
       "version_minor": 0
      },
      "text/plain": [
       "HBox(children=(IntProgress(value=0, description='Epoch 2', max=151, style=ProgressStyle(description_width='ini…"
      ]
     },
     "metadata": {},
     "output_type": "display_data"
    },
    {
     "name": "stdout",
     "output_type": "stream",
     "text": [
      "\n"
     ]
    },
    {
     "data": {
      "application/vnd.jupyter.widget-view+json": {
       "model_id": "229456253c594fafbc622af44ad3444d",
       "version_major": 2,
       "version_minor": 0
      },
      "text/plain": [
       "HBox(children=(IntProgress(value=0, description='Moving data for epoch 3', max=151, style=ProgressStyle(descri…"
      ]
     },
     "metadata": {},
     "output_type": "display_data"
    },
    {
     "name": "stdout",
     "output_type": "stream",
     "text": [
      "\n"
     ]
    },
    {
     "data": {
      "application/vnd.jupyter.widget-view+json": {
       "model_id": "ab62fb434e8e4ec5956b30c349e6468f",
       "version_major": 2,
       "version_minor": 0
      },
      "text/plain": [
       "HBox(children=(IntProgress(value=0, description='Epoch 3', max=151, style=ProgressStyle(description_width='ini…"
      ]
     },
     "metadata": {},
     "output_type": "display_data"
    },
    {
     "name": "stdout",
     "output_type": "stream",
     "text": [
      "\n"
     ]
    },
    {
     "data": {
      "application/vnd.jupyter.widget-view+json": {
       "model_id": "5f77c2d4048742f68452310636215851",
       "version_major": 2,
       "version_minor": 0
      },
      "text/plain": [
       "HBox(children=(IntProgress(value=0, description='Moving data for epoch 4', max=151, style=ProgressStyle(descri…"
      ]
     },
     "metadata": {},
     "output_type": "display_data"
    },
    {
     "name": "stdout",
     "output_type": "stream",
     "text": [
      "\n"
     ]
    },
    {
     "data": {
      "application/vnd.jupyter.widget-view+json": {
       "model_id": "59d1b01645b1440f99da018252341861",
       "version_major": 2,
       "version_minor": 0
      },
      "text/plain": [
       "HBox(children=(IntProgress(value=0, description='Epoch 4', max=151, style=ProgressStyle(description_width='ini…"
      ]
     },
     "metadata": {},
     "output_type": "display_data"
    },
    {
     "name": "stdout",
     "output_type": "stream",
     "text": [
      "\n"
     ]
    },
    {
     "data": {
      "application/vnd.jupyter.widget-view+json": {
       "model_id": "5c13a3b2fd1749499f6f3f3591f81036",
       "version_major": 2,
       "version_minor": 0
      },
      "text/plain": [
       "HBox(children=(IntProgress(value=0, description='Moving data for epoch 5', max=151, style=ProgressStyle(descri…"
      ]
     },
     "metadata": {},
     "output_type": "display_data"
    },
    {
     "name": "stdout",
     "output_type": "stream",
     "text": [
      "\n"
     ]
    },
    {
     "data": {
      "application/vnd.jupyter.widget-view+json": {
       "model_id": "cc2f3f021b1341659c5aebd14f8f6a56",
       "version_major": 2,
       "version_minor": 0
      },
      "text/plain": [
       "HBox(children=(IntProgress(value=0, description='Epoch 5', max=151, style=ProgressStyle(description_width='ini…"
      ]
     },
     "metadata": {},
     "output_type": "display_data"
    },
    {
     "name": "stdout",
     "output_type": "stream",
     "text": [
      "\n",
      "\n"
     ]
    },
    {
     "data": {
      "application/vnd.jupyter.widget-view+json": {
       "model_id": "8a4e273d6afc4fbd9ad631be18856055",
       "version_major": 2,
       "version_minor": 0
      },
      "text/plain": [
       "HBox(children=(IntProgress(value=0, description='Neural Net Training', max=5, style=ProgressStyle(description_…"
      ]
     },
     "metadata": {},
     "output_type": "display_data"
    },
    {
     "data": {
      "application/vnd.jupyter.widget-view+json": {
       "model_id": "b59ea8b3317d4a22b11f8b1cd273010e",
       "version_major": 2,
       "version_minor": 0
      },
      "text/plain": [
       "HBox(children=(IntProgress(value=0, description='Moving data for epoch 1', max=151, style=ProgressStyle(descri…"
      ]
     },
     "metadata": {},
     "output_type": "display_data"
    },
    {
     "name": "stdout",
     "output_type": "stream",
     "text": [
      "\n"
     ]
    },
    {
     "data": {
      "application/vnd.jupyter.widget-view+json": {
       "model_id": "0ba409567594425293967f9de2805a8b",
       "version_major": 2,
       "version_minor": 0
      },
      "text/plain": [
       "HBox(children=(IntProgress(value=0, description='Epoch 1', max=151, style=ProgressStyle(description_width='ini…"
      ]
     },
     "metadata": {},
     "output_type": "display_data"
    },
    {
     "name": "stdout",
     "output_type": "stream",
     "text": [
      "\n"
     ]
    },
    {
     "data": {
      "application/vnd.jupyter.widget-view+json": {
       "model_id": "feedf117f5414a5d9d4ba4f950a39a1a",
       "version_major": 2,
       "version_minor": 0
      },
      "text/plain": [
       "HBox(children=(IntProgress(value=0, description='Moving data for epoch 2', max=151, style=ProgressStyle(descri…"
      ]
     },
     "metadata": {},
     "output_type": "display_data"
    },
    {
     "name": "stdout",
     "output_type": "stream",
     "text": [
      "\n"
     ]
    },
    {
     "data": {
      "application/vnd.jupyter.widget-view+json": {
       "model_id": "f1233bd460ed4bd4ab97a7b992cc7f47",
       "version_major": 2,
       "version_minor": 0
      },
      "text/plain": [
       "HBox(children=(IntProgress(value=0, description='Epoch 2', max=151, style=ProgressStyle(description_width='ini…"
      ]
     },
     "metadata": {},
     "output_type": "display_data"
    },
    {
     "name": "stdout",
     "output_type": "stream",
     "text": [
      "\n"
     ]
    },
    {
     "data": {
      "application/vnd.jupyter.widget-view+json": {
       "model_id": "73ae46d35d8f4ea9a204be826d2331db",
       "version_major": 2,
       "version_minor": 0
      },
      "text/plain": [
       "HBox(children=(IntProgress(value=0, description='Moving data for epoch 3', max=151, style=ProgressStyle(descri…"
      ]
     },
     "metadata": {},
     "output_type": "display_data"
    },
    {
     "name": "stdout",
     "output_type": "stream",
     "text": [
      "\n"
     ]
    },
    {
     "data": {
      "application/vnd.jupyter.widget-view+json": {
       "model_id": "6f72685f4ef04296a9b74c92e4f43df0",
       "version_major": 2,
       "version_minor": 0
      },
      "text/plain": [
       "HBox(children=(IntProgress(value=0, description='Epoch 3', max=151, style=ProgressStyle(description_width='ini…"
      ]
     },
     "metadata": {},
     "output_type": "display_data"
    },
    {
     "name": "stdout",
     "output_type": "stream",
     "text": [
      "\n"
     ]
    },
    {
     "data": {
      "application/vnd.jupyter.widget-view+json": {
       "model_id": "d11fd511a3e84739a7ada33ab0f8f945",
       "version_major": 2,
       "version_minor": 0
      },
      "text/plain": [
       "HBox(children=(IntProgress(value=0, description='Moving data for epoch 4', max=151, style=ProgressStyle(descri…"
      ]
     },
     "metadata": {},
     "output_type": "display_data"
    },
    {
     "name": "stdout",
     "output_type": "stream",
     "text": [
      "\n"
     ]
    },
    {
     "data": {
      "application/vnd.jupyter.widget-view+json": {
       "model_id": "0454bd6e5a98456ebdf84def2cee2438",
       "version_major": 2,
       "version_minor": 0
      },
      "text/plain": [
       "HBox(children=(IntProgress(value=0, description='Epoch 4', max=151, style=ProgressStyle(description_width='ini…"
      ]
     },
     "metadata": {},
     "output_type": "display_data"
    },
    {
     "name": "stdout",
     "output_type": "stream",
     "text": [
      "\n"
     ]
    },
    {
     "data": {
      "application/vnd.jupyter.widget-view+json": {
       "model_id": "b06d3680d1c44c5d9d33ead9d342fe58",
       "version_major": 2,
       "version_minor": 0
      },
      "text/plain": [
       "HBox(children=(IntProgress(value=0, description='Moving data for epoch 5', max=151, style=ProgressStyle(descri…"
      ]
     },
     "metadata": {},
     "output_type": "display_data"
    },
    {
     "name": "stdout",
     "output_type": "stream",
     "text": [
      "\n"
     ]
    },
    {
     "data": {
      "application/vnd.jupyter.widget-view+json": {
       "model_id": "a58054d8d30044cca1ffd20efe0b7985",
       "version_major": 2,
       "version_minor": 0
      },
      "text/plain": [
       "HBox(children=(IntProgress(value=0, description='Epoch 5', max=151, style=ProgressStyle(description_width='ini…"
      ]
     },
     "metadata": {},
     "output_type": "display_data"
    },
    {
     "name": "stdout",
     "output_type": "stream",
     "text": [
      "\n",
      "\n"
     ]
    },
    {
     "data": {
      "application/vnd.jupyter.widget-view+json": {
       "model_id": "bb921c4472994d6ba5bb4e0e69b5a783",
       "version_major": 2,
       "version_minor": 0
      },
      "text/plain": [
       "HBox(children=(IntProgress(value=0, description='Neural Net Training', max=5, style=ProgressStyle(description_…"
      ]
     },
     "metadata": {},
     "output_type": "display_data"
    },
    {
     "data": {
      "application/vnd.jupyter.widget-view+json": {
       "model_id": "091dbd0339f848d09178953db4c20ce0",
       "version_major": 2,
       "version_minor": 0
      },
      "text/plain": [
       "HBox(children=(IntProgress(value=0, description='Moving data for epoch 1', max=151, style=ProgressStyle(descri…"
      ]
     },
     "metadata": {},
     "output_type": "display_data"
    },
    {
     "name": "stdout",
     "output_type": "stream",
     "text": [
      "\n"
     ]
    },
    {
     "data": {
      "application/vnd.jupyter.widget-view+json": {
       "model_id": "188151e9dc6d4b0bbcbd7620dfa9398c",
       "version_major": 2,
       "version_minor": 0
      },
      "text/plain": [
       "HBox(children=(IntProgress(value=0, description='Epoch 1', max=151, style=ProgressStyle(description_width='ini…"
      ]
     },
     "metadata": {},
     "output_type": "display_data"
    },
    {
     "name": "stdout",
     "output_type": "stream",
     "text": [
      "\n"
     ]
    },
    {
     "data": {
      "application/vnd.jupyter.widget-view+json": {
       "model_id": "58e724a994ab4fdfa16439c25183b3be",
       "version_major": 2,
       "version_minor": 0
      },
      "text/plain": [
       "HBox(children=(IntProgress(value=0, description='Moving data for epoch 2', max=151, style=ProgressStyle(descri…"
      ]
     },
     "metadata": {},
     "output_type": "display_data"
    },
    {
     "name": "stdout",
     "output_type": "stream",
     "text": [
      "\n"
     ]
    },
    {
     "data": {
      "application/vnd.jupyter.widget-view+json": {
       "model_id": "fc41d80e7b494c2bae7ae3ff291f7b25",
       "version_major": 2,
       "version_minor": 0
      },
      "text/plain": [
       "HBox(children=(IntProgress(value=0, description='Epoch 2', max=151, style=ProgressStyle(description_width='ini…"
      ]
     },
     "metadata": {},
     "output_type": "display_data"
    },
    {
     "name": "stdout",
     "output_type": "stream",
     "text": [
      "\n"
     ]
    },
    {
     "data": {
      "application/vnd.jupyter.widget-view+json": {
       "model_id": "e3f5a04696724bb28bd119cfadf4ae85",
       "version_major": 2,
       "version_minor": 0
      },
      "text/plain": [
       "HBox(children=(IntProgress(value=0, description='Moving data for epoch 3', max=151, style=ProgressStyle(descri…"
      ]
     },
     "metadata": {},
     "output_type": "display_data"
    },
    {
     "name": "stdout",
     "output_type": "stream",
     "text": [
      "\n"
     ]
    },
    {
     "data": {
      "application/vnd.jupyter.widget-view+json": {
       "model_id": "f9724bf196714f1e851ba7ffab8bf939",
       "version_major": 2,
       "version_minor": 0
      },
      "text/plain": [
       "HBox(children=(IntProgress(value=0, description='Epoch 3', max=151, style=ProgressStyle(description_width='ini…"
      ]
     },
     "metadata": {},
     "output_type": "display_data"
    },
    {
     "name": "stdout",
     "output_type": "stream",
     "text": [
      "\n"
     ]
    },
    {
     "data": {
      "application/vnd.jupyter.widget-view+json": {
       "model_id": "7fc67af552164cad9c3fa91660ea5c2c",
       "version_major": 2,
       "version_minor": 0
      },
      "text/plain": [
       "HBox(children=(IntProgress(value=0, description='Moving data for epoch 4', max=151, style=ProgressStyle(descri…"
      ]
     },
     "metadata": {},
     "output_type": "display_data"
    },
    {
     "name": "stdout",
     "output_type": "stream",
     "text": [
      "\n"
     ]
    },
    {
     "data": {
      "application/vnd.jupyter.widget-view+json": {
       "model_id": "339437a3e1414f8990a4f0dcfd2afefe",
       "version_major": 2,
       "version_minor": 0
      },
      "text/plain": [
       "HBox(children=(IntProgress(value=0, description='Epoch 4', max=151, style=ProgressStyle(description_width='ini…"
      ]
     },
     "metadata": {},
     "output_type": "display_data"
    },
    {
     "name": "stdout",
     "output_type": "stream",
     "text": [
      "\n"
     ]
    },
    {
     "data": {
      "application/vnd.jupyter.widget-view+json": {
       "model_id": "92059fb96e4f4c60947c454d19c4fc74",
       "version_major": 2,
       "version_minor": 0
      },
      "text/plain": [
       "HBox(children=(IntProgress(value=0, description='Moving data for epoch 5', max=151, style=ProgressStyle(descri…"
      ]
     },
     "metadata": {},
     "output_type": "display_data"
    },
    {
     "name": "stdout",
     "output_type": "stream",
     "text": [
      "\n"
     ]
    },
    {
     "data": {
      "application/vnd.jupyter.widget-view+json": {
       "model_id": "6cb952f7333445088758254f383c2673",
       "version_major": 2,
       "version_minor": 0
      },
      "text/plain": [
       "HBox(children=(IntProgress(value=0, description='Epoch 5', max=151, style=ProgressStyle(description_width='ini…"
      ]
     },
     "metadata": {},
     "output_type": "display_data"
    },
    {
     "name": "stdout",
     "output_type": "stream",
     "text": [
      "\n",
      "\n"
     ]
    }
   ],
   "source": [
    "trainCount = len(training_set_one)\n",
    "batchSize = 32\n",
    "batchCount = trainCount // batchSize \n",
    "startLR = 0.04\n",
    "numEpochs = 5\n",
    "lrStepFactor = 1.5 \n",
    "\n",
    "results = dict() \n",
    "dimNets = nets[3]\n",
    "for netIndex in [0, 1, 2, 3]:\n",
    "    if netIndex == 2 or netIndex == 3:\n",
    "        r = train(training_set_one,\n",
    "                  game,\n",
    "                  dimNets[netIndex],\n",
    "                  trainCount, \n",
    "                  batchCount,\n",
    "                  numEpochs,\n",
    "                  startLR,\n",
    "                  lrStepFactor,\n",
    "                  False)\n",
    "    else:\n",
    "        r = train(training_set_one,\n",
    "                  game, \n",
    "                  dimNets[netIndex],\n",
    "                  trainCount,\n",
    "                  batchCount,\n",
    "                  numEpochs,\n",
    "                  startLR,\n",
    "                  lrStepFactor,\n",
    "                  True)\n",
    "    results[(3, netIndex)] = r"
   ]
  },
  {
   "cell_type": "markdown",
   "metadata": {},
   "source": [
    "Now we try training it for a 4x4 board (using the exact same neural network and same parameters)"
   ]
  },
  {
   "cell_type": "code",
   "execution_count": null,
   "metadata": {},
   "outputs": [
    {
     "data": {
      "application/vnd.jupyter.widget-view+json": {
       "model_id": "e4fbf71e6c104a3a88fb9be2baf22307",
       "version_major": 2,
       "version_minor": 0
      },
      "text/plain": [
       "HBox(children=(IntProgress(value=0, max=1000000), HTML(value='')))"
      ]
     },
     "metadata": {},
     "output_type": "display_data"
    }
   ],
   "source": [
    "gameOverCheck = partial(checkGameOver, n=4)\n",
    "config = TicTacToeConfig(turnChooser=defaultTurnChooser, gameOverChecker=gameOverCheck, dimension=5, threeDims=False)\n",
    "game = TicTacToe(None, None, None, config)\n",
    "\n",
    "test_set, training_set, validation_set = getGameTree(game, 4)"
   ]
  },
  {
   "cell_type": "code",
   "execution_count": null,
   "metadata": {},
   "outputs": [],
   "source": [
    "trainCount = 1000\n",
    "batchSize = 32\n",
    "batchCount = trainCount // batchSize \n",
    "startLR = 0.04\n",
    "numEpochs = 5\n",
    "lrStepFactor = 1.5 \n",
    "\n",
    "results = dict() \n",
    "dimNets = nets[4]\n",
    "for netIndex in [0, 1, 2, 3]:\n",
    "    if netIndex == 2 or netIndex == 3:\n",
    "        r = train(training_set, game, dimNets[netIndex], trainCount, batchCount, numEpochs, startLR, lrStepFactor, False)\n",
    "    else:\n",
    "        r = train(training_set, game, dimNets[netIndex], trainCount, batchCount, numEpochs, startLR, lrStepFactor, True)\n",
    "    results[(5, netIndex)] = r"
   ]
  },
  {
   "cell_type": "markdown",
   "metadata": {},
   "source": [
    "Now we try training it for a 5x5 board (using the exact same neural networks and same parameters)."
   ]
  },
  {
   "cell_type": "code",
   "execution_count": null,
   "metadata": {},
   "outputs": [],
   "source": [
    "gameOverCheck = partial(checkGameOver, n=5)\n",
    "config = TicTacToeConfig(turnChooser=defaultTurnChooser, gameOverChecker=gameOverCheck, dimension=7, threeDims=False)\n",
    "game = TicTacToe(None, None, None, config)\n",
    "\n",
    "vertices = getGameTree(game, 5)"
   ]
  },
  {
   "cell_type": "markdown",
   "metadata": {},
   "source": [
    "As we can see, this tree is way too large to even store in memory and create. Finding the minimax values for nodes in the tree would also be extremely slow, even if we had the entire tree."
   ]
  },
  {
   "cell_type": "code",
   "execution_count": null,
   "metadata": {},
   "outputs": [],
   "source": [
    "trainCount = 1000\n",
    "batchSize = 32\n",
    "batchCount = trainCount // batchSize \n",
    "startLR = 0.04\n",
    "numEpochs = 5\n",
    "lrStepFactor = 1.5 \n",
    "\n",
    "results = dict() \n",
    "dimNets = nets[7]\n",
    "for netIndex in [0, 1, 2, 3]:\n",
    "    if netIndex == 2 or netIndex == 3:\n",
    "        r = train(training_set, game, dimNets[netIndex], trainCount, batchCount, numEpochs, startLR, lrStepFactor, False)\n",
    "    else:\n",
    "        r = train(training_set, game, dimNets[netIndex], trainCount, batchCount, numEpochs, startLR, lrStepFactor, True)\n",
    "    results[(7, netIndex)] = r"
   ]
  },
  {
   "cell_type": "markdown",
   "metadata": {},
   "source": [
    "# Visualizing the Results\n",
    "\n",
    "First, we plot the loss as the network is being trained: "
   ]
  },
  {
   "cell_type": "code",
   "execution_count": 33,
   "metadata": {},
   "outputs": [],
   "source": [
    "def do_plot(L, chunkSize, showEpochs = True): \n",
    "    L2 = []\n",
    "    epoch_index = 0 \n",
    "    for epoch in L:\n",
    "        if showEpochs: \n",
    "            plt.axvline(x=len(L2), color=\"r\", linestyle='dashed')\n",
    "        for i in range(0, len(epoch), chunkSize):\n",
    "            if len(epoch) - i < chunkSize:\n",
    "                amount = len(epoch) - i\n",
    "            else: \n",
    "                amount = chunkSize \n",
    "            L2.append(sum(epoch[i:i+amount])/amount)\n",
    "        \n",
    "    \n",
    "    plt.plot(L2)\n",
    "    plt.show()"
   ]
  },
  {
   "cell_type": "code",
   "execution_count": 34,
   "metadata": {},
   "outputs": [
    {
     "data": {
      "image/png": "[encoded data removed]",
      "text/plain": [
       "<Figure size 432x288 with 1 Axes>"
      ]
     },
     "metadata": {},
     "output_type": "display_data"
    },
    {
     "data": {
      "image/png": "[encoded data removed]",
      "text/plain": [
       "<Figure size 432x288 with 1 Axes>"
      ]
     },
     "metadata": {},
     "output_type": "display_data"
    },
    {
     "data": {
      "image/png": "[encoded data removed]",
      "text/plain": [
       "<Figure size 432x288 with 1 Axes>"
      ]
     },
     "metadata": {},
     "output_type": "display_data"
    },
    {
     "data": {
      "image/png": "[encoded data removed]",
      "text/plain": [
       "<Figure size 432x288 with 1 Axes>"
      ]
     },
     "metadata": {},
     "output_type": "display_data"
    },
    {
     "ename": "KeyError",
     "evalue": "(5, 0)",
     "output_type": "error",
     "traceback": [
      "\u001b[1;31m---------------------------------------------------------------------------\u001b[0m",
      "\u001b[1;31mKeyError\u001b[0m                                  Traceback (most recent call last)",
      "\u001b[1;32m<ipython-input-34-08abcc431e14>\u001b[0m in \u001b[0;36m<module>\u001b[1;34m()\u001b[0m\n\u001b[0;32m      6\u001b[0m \u001b[1;33m\u001b[0m\u001b[0m\n\u001b[0;32m      7\u001b[0m \u001b[0mCHUNK_SIZE\u001b[0m \u001b[1;33m=\u001b[0m \u001b[1;36m200\u001b[0m\u001b[1;33m\u001b[0m\u001b[0m\n\u001b[1;32m----> 8\u001b[1;33m \u001b[0mdo_plot\u001b[0m\u001b[1;33m(\u001b[0m\u001b[0mresults\u001b[0m\u001b[1;33m[\u001b[0m\u001b[1;33m(\u001b[0m\u001b[1;36m5\u001b[0m\u001b[1;33m,\u001b[0m\u001b[1;36m0\u001b[0m\u001b[1;33m)\u001b[0m\u001b[1;33m]\u001b[0m\u001b[1;33m,\u001b[0m \u001b[0mCHUNK_SIZE\u001b[0m\u001b[1;33m)\u001b[0m\u001b[1;33m\u001b[0m\u001b[0m\n\u001b[0m\u001b[0;32m      9\u001b[0m \u001b[0mdo_plot\u001b[0m\u001b[1;33m(\u001b[0m\u001b[0mresults\u001b[0m\u001b[1;33m[\u001b[0m\u001b[1;33m(\u001b[0m\u001b[1;36m5\u001b[0m\u001b[1;33m,\u001b[0m\u001b[1;36m1\u001b[0m\u001b[1;33m)\u001b[0m\u001b[1;33m]\u001b[0m\u001b[1;33m,\u001b[0m \u001b[0mCHUNK_SIZE\u001b[0m\u001b[1;33m)\u001b[0m\u001b[1;33m\u001b[0m\u001b[0m\n\u001b[0;32m     10\u001b[0m \u001b[0mdo_plot\u001b[0m\u001b[1;33m(\u001b[0m\u001b[0mresults\u001b[0m\u001b[1;33m[\u001b[0m\u001b[1;33m(\u001b[0m\u001b[1;36m5\u001b[0m\u001b[1;33m,\u001b[0m\u001b[1;36m2\u001b[0m\u001b[1;33m)\u001b[0m\u001b[1;33m]\u001b[0m\u001b[1;33m,\u001b[0m \u001b[0mCHUNK_SIZE\u001b[0m\u001b[1;33m)\u001b[0m\u001b[1;33m\u001b[0m\u001b[0m\n",
      "\u001b[1;31mKeyError\u001b[0m: (5, 0)"
     ]
    }
   ],
   "source": [
    "CHUNK_SIZE = 200\n",
    "do_plot(results[(3,0)], CHUNK_SIZE, False)\n",
    "do_plot(results[(3,1)], CHUNK_SIZE, False)\n",
    "do_plot(results[(3,2)], CHUNK_SIZE, False)\n",
    "do_plot(results[(3,3)], CHUNK_SIZE, False)\n",
    "\n",
    "CHUNK_SIZE = 200\n",
    "do_plot(results[(5,0)], CHUNK_SIZE)\n",
    "do_plot(results[(5,1)], CHUNK_SIZE)\n",
    "do_plot(results[(5,2)], CHUNK_SIZE)\n",
    "do_plot(results[(5,3)], CHUNK_SIZE)\n",
    "\n",
    "CHUNK_SIZE = 200\n",
    "do_plot(results[(7,0)], CHUNK_SIZE)\n",
    "do_plot(results[(7,1)], CHUNK_SIZE)\n",
    "do_plot(results[(7,2)], CHUNK_SIZE)\n",
    "do_plot(results[(7,3)], CHUNK_SIZE)"
   ]
  },
  {
   "cell_type": "markdown",
   "metadata": {},
   "source": [
    "Now compute the accuracy against the validation set"
   ]
  },
  {
   "cell_type": "code",
   "execution_count": null,
   "metadata": {},
   "outputs": [],
   "source": []
  },
  {
   "cell_type": "markdown",
   "metadata": {},
   "source": [
    "We also compute the loss against the validation set"
   ]
  },
  {
   "cell_type": "code",
   "execution_count": null,
   "metadata": {},
   "outputs": [],
   "source": [
    "for dim in range(3, 4):\n",
    "    dimNets = nets[dim]\n",
    "    for netIndex in [0, 1, 2, 3]:\n",
    "        if netIndex == 2 or netIndex == 3:\n",
    "            flatten = False \n",
    "        else: \n",
    "            flatten = True \n",
    "            \n",
    "        net = dimNets[netIndex]\n",
    "        losses = [] \n",
    "        for node in validation_set[:100]:\n",
    "            if flatten:\n",
    "                loss = net(node.board_torch.reshape(-1))\n",
    "            else:\n",
    "                loss = net(node.board_torch.reshape(1, 1, 3, 3))\n",
    "            losses.append(loss)\n",
    "                    "
   ]
  },
  {
   "cell_type": "markdown",
   "metadata": {},
   "source": [
    "Finally we pass this network into an agent"
   ]
  },
  {
   "cell_type": "code",
   "execution_count": null,
   "metadata": {},
   "outputs": [],
   "source": [
    "def netValueFunction(board): \n",
    "    tBoard = torch.FloatTensor(board).reshape(-1)\n",
    "    print(tBoard) \n",
    "    out = net(tBoard)\n",
    "    for i, v in enumerate(out): \n",
    "        if v == out.max():\n",
    "            return i\n",
    "        \n",
    "    return None\n",
    "            \n",
    "nAgent = ValueAgent(0, netValueFunction, 3)"
   ]
  },
  {
   "cell_type": "markdown",
   "metadata": {},
   "source": [
    "### Comparisons of Greedy Policy to Baseline\n",
    "\n",
    "Here, we compare the greedy policy from the learned value function to an agent that plays random policies and a minimax agent (which plays perfectly)."
   ]
  },
  {
   "cell_type": "code",
   "execution_count": null,
   "metadata": {},
   "outputs": [],
   "source": [
    "game = StandardTicTacToe(nAgent, DumbAgent(1), Log(2))\n",
    "\n",
    "results = []\n",
    "for i in range(0, 10): \n",
    "    foo = game.play()\n",
    "    if foo == 0: \n",
    "        print(\"Tie\")\n",
    "        results.append(-1)\n",
    "    else: \n",
    "        results.append(foo)\n",
    "    game.reset()\n",
    "print(results)"
   ]
  }
 ],
 "metadata": {
  "kernelspec": {
   "display_name": "Python 3",
   "language": "python",
   "name": "python3"
  },
  "language_info": {
   "codemirror_mode": {
    "name": "ipython",
    "version": 3
   },
   "file_extension": ".py",
   "mimetype": "text/x-python",
   "name": "python",
   "nbconvert_exporter": "python",
   "pygments_lexer": "ipython3",
   "version": "3.7.4"
  }
 },
 "nbformat": 4,
 "nbformat_minor": 2
}
